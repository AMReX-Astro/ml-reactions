{
 "cells": [
  {
   "cell_type": "code",
   "execution_count": 1,
   "metadata": {},
   "outputs": [],
   "source": [
    "import matplotlib\n",
    "import matplotlib.pyplot as plt\n",
    "import imageio"
   ]
  },
  {
   "cell_type": "code",
   "execution_count": 2,
   "metadata": {},
   "outputs": [],
   "source": [
    "import numpy as np"
   ]
  },
  {
   "cell_type": "code",
   "execution_count": 3,
   "metadata": {},
   "outputs": [],
   "source": [
    "import torch\n",
    "import torch.nn as nn\n",
    "import torch.nn.functional as F\n",
    "from torch.autograd import Variable"
   ]
  },
  {
   "cell_type": "code",
   "execution_count": 4,
   "metadata": {},
   "outputs": [],
   "source": [
    "from StarKiller.initialization import starkiller_initialize\n",
    "from StarKiller.interfaces import BurnType, EosType\n",
    "from StarKiller.integration import Integrator\n",
    "from StarKiller.network import Network\n",
    "from StarKiller.eos import Eos"
   ]
  },
  {
   "cell_type": "code",
   "execution_count": 5,
   "metadata": {},
   "outputs": [
    {
     "name": "stdout",
     "output_type": "stream",
     "text": [
      "\n",
      "Initialized StarKiller with ...\n",
      "- EOS:     helmholtz\n",
      "- Network: aprox13\n"
     ]
    }
   ],
   "source": [
    "starkiller_initialize(\"probin_aprox13\")\n",
    "network = Network()\n",
    "integrator = Integrator()"
   ]
  },
  {
   "cell_type": "code",
   "execution_count": 6,
   "metadata": {},
   "outputs": [],
   "source": [
    "# Set use_cuda=True to use an available GPU\n",
    "use_cuda=True"
   ]
  },
  {
   "cell_type": "code",
   "execution_count": 7,
   "metadata": {},
   "outputs": [
    {
     "name": "stdout",
     "output_type": "stream",
     "text": [
      "density_scale =  100000000.0\n",
      "temperature_scale =  4000000000.0\n",
      "energy_scale =  8948090280514663.0\n"
     ]
    }
   ],
   "source": [
    "# Input sampling domain & scaling\n",
    "dens = 1.0e8\n",
    "temp = 4.0e8\n",
    "xhe = 1.0\n",
    "end_time = 1.0e-6\n",
    "\n",
    "density_scale = dens\n",
    "temperature_scale = temp * 10\n",
    "\n",
    "# do an eos call to set the internal energy scale\n",
    "eos = Eos()\n",
    "eos_state = EosType()\n",
    "\n",
    "# pick a composition for normalization of Ye = 0.5 w/ abar = 12, zbar = 6\n",
    "eos_state.state.abar = 12.0\n",
    "eos_state.state.zbar = 6.0\n",
    "eos_state.state.y_e = eos_state.state.zbar / eos_state.state.abar\n",
    "eos_state.state.mu_e = 1.0 / eos_state.state.y_e\n",
    "\n",
    "# use_raw_inputs uses only abar, zbar, y_e, mu_e for the EOS call\n",
    "# instead of setting those from the mass fractions\n",
    "eos.evaluate(eos_state.eos_input_rt, eos_state, use_raw_inputs=True)\n",
    "\n",
    "energy_scale = eos_state.state.e\n",
    "\n",
    "print(\"density_scale = \", density_scale)\n",
    "print(\"temperature_scale = \", temperature_scale)\n",
    "print(\"energy_scale = \", energy_scale)"
   ]
  },
  {
   "cell_type": "code",
   "execution_count": 8,
   "metadata": {},
   "outputs": [],
   "source": [
    "# size of training set\n",
    "NumSamples = 256"
   ]
  },
  {
   "cell_type": "code",
   "execution_count": 9,
   "metadata": {},
   "outputs": [],
   "source": [
    "# get the solution given t\n",
    "def sol(t):\n",
    "    y = torch.zeros(NumSamples, network.nspec+2)\n",
    "    \n",
    "    for i, time in enumerate(t):\n",
    "        # get the time\n",
    "        time = time.item()\n",
    "        \n",
    "        # construct a burn type\n",
    "        state_in = BurnType()\n",
    "\n",
    "        # set density & temperature\n",
    "        state_in.state.rho = dens\n",
    "        state_in.state.t = temp\n",
    "\n",
    "        # mass fractions\n",
    "        state_in.state.xn = np.zeros(network.nspec)\n",
    "        state_in.state.xn[:] = (1.0-xhe)/(network.nspec-1)\n",
    "        state_in.state.xn[network.species_map[\"he4\"]] = xhe\n",
    "\n",
    "        # integrate to get the output state\n",
    "        state_out = integrator.integrate(state_in, time)\n",
    "        \n",
    "        # set the solution values\n",
    "        for n in range(network.nspec):\n",
    "            y[i][n] = state_out.state.xn[n]\n",
    "        y[i][network.net_itemp] = state_out.state.t / temperature_scale\n",
    "        y[i][network.net_ienuc] = state_out.state.e / energy_scale\n",
    "    \n",
    "    return y"
   ]
  },
  {
   "cell_type": "code",
   "execution_count": 10,
   "metadata": {},
   "outputs": [],
   "source": [
    "# get the solution rhs given y\n",
    "def rhs(y):\n",
    "    dydt = torch.zeros(NumSamples, network.nspec+2)\n",
    "\n",
    "    for i, yi in enumerate(y):\n",
    "        # construct a burn type\n",
    "        state = BurnType()\n",
    "\n",
    "        # set density & temperature\n",
    "        state.state.rho = dens\n",
    "        state.state.t = yi[network.net_itemp]\n",
    "\n",
    "        # mass fractions\n",
    "        for n in range(network.nspec):\n",
    "            state.state.xn[n] = yi[n]\n",
    "\n",
    "        # evaluate the rhs\n",
    "        network.rhs(state)\n",
    "        \n",
    "        # get rhs\n",
    "        f = network.rhs_to_x(state.ydot)\n",
    "        for n in range(network.nspec):\n",
    "            dydt[i][n] = f[n]\n",
    "\n",
    "        dydt[i][network.net_itemp] = f[network.net_itemp] / temperature_scale\n",
    "        dydt[i][network.net_ienuc] = f[network.net_ienuc] / energy_scale\n",
    "            \n",
    "    return dydt"
   ]
  },
  {
   "cell_type": "code",
   "execution_count": 11,
   "metadata": {},
   "outputs": [],
   "source": [
    "x = torch.unsqueeze(torch.linspace(0, end_time, NumSamples, requires_grad=True), dim=1)\n",
    "x_test = torch.unsqueeze(torch.rand(NumSamples, requires_grad=True), dim=1) * end_time\n",
    "\n",
    "# get the truth solution as a function of x\n",
    "y = sol(x)\n",
    "\n",
    "# get the truth solution at the test points x_test\n",
    "y_test = sol(x_test)\n",
    "\n",
    "# get the analytic right-hand-side as a function of y(x)\n",
    "# f(x) = dy(x)/dx\n",
    "dydx = rhs(y)\n",
    "\n",
    "if use_cuda:\n",
    "    x = x.cuda()\n",
    "    y = y.cuda()\n",
    "    x_test = x_test.cuda()\n",
    "    y_test = y_test.cuda()\n",
    "    dydx = dydx.cuda()"
   ]
  },
  {
   "cell_type": "code",
   "execution_count": 12,
   "metadata": {},
   "outputs": [],
   "source": [
    "# we will want to propagate gradients through y, dydx, and x\n",
    "# so make them PyTorch Variables\n",
    "x = Variable(x, requires_grad=True)\n",
    "y = Variable(y, requires_grad=True)\n",
    "dydx = Variable(dydx, requires_grad=True)\n",
    "\n",
    "# we will need to evaluate gradients w.r.t. x multiple\n",
    "# times so tell PyTorch to save the gradient variable in x.\n",
    "x.retain_grad()"
   ]
  },
  {
   "cell_type": "code",
   "execution_count": 13,
   "metadata": {},
   "outputs": [],
   "source": [
    "# get numpy versions of x,y,f on the cpu for plotting\n",
    "xnp = x.cpu().data.numpy()\n",
    "ynp = y.cpu().data.numpy()\n",
    "fnp = dydx.cpu().data.numpy()"
   ]
  },
  {
   "cell_type": "code",
   "execution_count": 14,
   "metadata": {},
   "outputs": [
    {
     "data": {
      "text/plain": [
       "Text(0, 0.5, 'T')"
      ]
     },
     "execution_count": 14,
     "metadata": {},
     "output_type": "execute_result"
    },
    {
     "data": {
      "image/png": "[encoded data removed]",
      "text/plain": [
       "<Figure size 750x750 with 2 Axes>"
      ]
     },
     "metadata": {
      "needs_background": "light"
     },
     "output_type": "display_data"
    }
   ],
   "source": [
    "# plot the truth values\n",
    "fig, axis = plt.subplots(figsize=(5,5), dpi=150)\n",
    "axis_t = axis.twinx()\n",
    "\n",
    "for n in range(network.nspec):\n",
    "    axis.scatter(xnp, ynp[:,n],\n",
    "                 color='blue', alpha=0.5)\n",
    "    \n",
    "axis_t.scatter(xnp, ynp[:,network.net_itemp],\n",
    "               color='red', alpha=0.5)\n",
    "\n",
    "axis.set_ylabel(\"X\")\n",
    "axis.set_xlabel(\"t\")\n",
    "axis_t.set_ylabel(\"T\")"
   ]
  },
  {
   "cell_type": "code",
   "execution_count": 15,
   "metadata": {},
   "outputs": [],
   "source": [
    "class HiddenNet(nn.Module):\n",
    "    def __init__(self, n_independent, n_dependent,\n",
    "                 n_hidden, hidden_depth, activation):\n",
    "        super(HiddenNet, self).__init__()\n",
    "        \n",
    "        self.activation = activation\n",
    "        self.input_layer = nn.Linear(n_independent, n_hidden)\n",
    "        self.hidden_layers = nn.ModuleList()\n",
    "        for i in range(hidden_depth):\n",
    "            self.hidden_layers.append(nn.Linear(n_hidden, n_hidden))\n",
    "        self.output_layer = nn.Linear(n_hidden, n_dependent)\n",
    "        \n",
    "    def forward(self, x):\n",
    "        x = self.activation(self.input_layer(x))\n",
    "        for h in self.hidden_layers:\n",
    "            x = self.activation(h(x))\n",
    "        x = self.output_layer(x)\n",
    "        return x"
   ]
  },
  {
   "cell_type": "code",
   "execution_count": 16,
   "metadata": {},
   "outputs": [],
   "source": [
    "net = HiddenNet(n_independent=1, n_dependent=network.nspec+2,\n",
    "                n_hidden=network.nspec+2, hidden_depth=10, activation=F.celu)"
   ]
  },
  {
   "cell_type": "code",
   "execution_count": 17,
   "metadata": {},
   "outputs": [],
   "source": [
    "if use_cuda:\n",
    "    net.cuda()"
   ]
  },
  {
   "cell_type": "code",
   "execution_count": 18,
   "metadata": {},
   "outputs": [
    {
     "name": "stdout",
     "output_type": "stream",
     "text": [
      "HiddenNet(\n",
      "  (input_layer): Linear(in_features=1, out_features=15, bias=True)\n",
      "  (hidden_layers): ModuleList(\n",
      "    (0): Linear(in_features=15, out_features=15, bias=True)\n",
      "    (1): Linear(in_features=15, out_features=15, bias=True)\n",
      "    (2): Linear(in_features=15, out_features=15, bias=True)\n",
      "    (3): Linear(in_features=15, out_features=15, bias=True)\n",
      "    (4): Linear(in_features=15, out_features=15, bias=True)\n",
      "    (5): Linear(in_features=15, out_features=15, bias=True)\n",
      "    (6): Linear(in_features=15, out_features=15, bias=True)\n",
      "    (7): Linear(in_features=15, out_features=15, bias=True)\n",
      "    (8): Linear(in_features=15, out_features=15, bias=True)\n",
      "    (9): Linear(in_features=15, out_features=15, bias=True)\n",
      "  )\n",
      "  (output_layer): Linear(in_features=15, out_features=15, bias=True)\n",
      ")\n"
     ]
    }
   ],
   "source": [
    "print(net)"
   ]
  },
  {
   "cell_type": "code",
   "execution_count": 19,
   "metadata": {},
   "outputs": [],
   "source": [
    "optimizer_sgd = torch.optim.SGD(net.parameters(), lr=0.01, momentum=0.9)\n",
    "optimizer_adam = torch.optim.Adam(net.parameters(), lr=0.01)"
   ]
  },
  {
   "cell_type": "code",
   "execution_count": 20,
   "metadata": {},
   "outputs": [],
   "source": [
    "loss_func = torch.nn.MSELoss()"
   ]
  },
  {
   "cell_type": "code",
   "execution_count": 21,
   "metadata": {},
   "outputs": [
    {
     "data": {
      "image/png": "[encoded data removed]",
      "text/plain": [
       "<Figure size 1200x1200 with 6 Axes>"
      ]
     },
     "metadata": {
      "needs_background": "light"
     },
     "output_type": "display_data"
    }
   ],
   "source": [
    "training_images = []\n",
    "# get a multipanel figure showing the prediction (p) and error (e)\n",
    "fig, (axis_p, axis_f, axis_e) = plt.subplots(nrows=3, ncols=1, figsize=(8,8), dpi=150)\n",
    "axis_e1 = axis_e.twinx()\n",
    "axis_p_t = axis_p.twinx()\n",
    "axis_f_t = axis_f.twinx()"
   ]
  },
  {
   "cell_type": "code",
   "execution_count": 22,
   "metadata": {},
   "outputs": [],
   "source": [
    "# arrays for accumulating the epoch index and losses for plotting\n",
    "epochs = []\n",
    "losses = []\n",
    "losses0 = []\n",
    "losses1 = []\n",
    "tlosses = []"
   ]
  },
  {
   "cell_type": "code",
   "execution_count": 23,
   "metadata": {},
   "outputs": [],
   "source": [
    "# this function is the training loop over epochs\n",
    "# where 1 epoch trains over the whole training dataset\n",
    "def train_error(NumEpochs):\n",
    "    for t in range(NumEpochs):\n",
    "        # calculate prediction given the current net state\n",
    "        prediction = net(x)\n",
    "        \n",
    "        # get error with testing samples\n",
    "        prediction_test = net(x_test)\n",
    "        test_loss = torch.sqrt(loss_func(prediction_test, y_test)).cpu().data.numpy()\n",
    "\n",
    "        # calculate error between prediction and analytic truth y\n",
    "        loss0 = torch.sqrt(loss_func(prediction, y))\n",
    "\n",
    "        # first, zero out the existing gradients to avoid\n",
    "        # accumulating gradients on top of existing gradients\n",
    "        net.zero_grad()\n",
    "\n",
    "        # calculate gradients d(prediction)/d(x) for each component\n",
    "        def get_component_gradient(n):\n",
    "            if x.grad is not None:\n",
    "                x.grad.data.zero_()\n",
    "\n",
    "            # now get the gradients dp_n/dt\n",
    "            prediction[:,n].backward(torch.ones_like(prediction[:,n]), retain_graph=True)\n",
    "            # clone the x gradient to save a copy of it as dp_n/dt\n",
    "            dpndx = x.grad.clone()\n",
    "            # clear the x gradient for the loss gradient below\n",
    "            x.grad.data.zero_()\n",
    "            \n",
    "            # return dp_n/dt\n",
    "            return dpndx\n",
    "        \n",
    "        dpdx = torch.ones_like(prediction)\n",
    "\n",
    "        for i in range(network.nspec+2):\n",
    "            dpdx[:,i] = torch.flatten(get_component_gradient(i))\n",
    "        \n",
    "        # evaluate the analytic right-hand-side function at the prediction value\n",
    "        prhs = rhs(prediction)\n",
    "\n",
    "        # define the error of the prediction derivative using the analytic derivative\n",
    "        loss1 = torch.sqrt(loss_func(dpdx, dydx))\n",
    "\n",
    "        # total error combines the error of the prediction (loss0) with \n",
    "        # the error of the prediction derivative (loss1)\n",
    "        loss = loss0# + loss1\n",
    "\n",
    "        # use the Adam optimizer\n",
    "        optimizer = optimizer_adam\n",
    "\n",
    "        # clear gradients for the next training iteration\n",
    "        optimizer.zero_grad()\n",
    "\n",
    "        # compute backpropagation gradients\n",
    "        loss.backward()\n",
    "\n",
    "        # apply gradients to update the weights\n",
    "        optimizer.step()\n",
    "\n",
    "        # generate plots\n",
    "        if t % 100 == 0:\n",
    "            # Prediction plot to show learning progress\n",
    "            axis_p.clear()\n",
    "\n",
    "            axis_p.set_ylabel('Solution', fontsize=22)\n",
    "\n",
    "            pnp = prediction.cpu().data.numpy()\n",
    "            \n",
    "            for n in range(network.nspec):\n",
    "                axis_p.plot(xnp, pnp[:,n],\n",
    "                            color='orange', lw=3, alpha=0.5)\n",
    "\n",
    "                axis_p.scatter(xnp, ynp[:,n],\n",
    "                               color='blue', alpha=0.5, s=20)\n",
    "                \n",
    "            axis_p_t.plot(xnp, pnp[:,network.net_itemp],\n",
    "                          color='orange', lw=3, alpha=0.5)\n",
    "\n",
    "            axis_p_t.scatter(xnp, ynp[:,network.net_itemp],\n",
    "                             color='blue', alpha=0.5, s=20)\n",
    "\n",
    "            # Plot analytic rhs vs prediction rhs\n",
    "            pfnp = prhs.cpu().data.numpy()\n",
    "            dpdxnp = dpdx.cpu().data.numpy()\n",
    "            axis_f.clear()\n",
    "\n",
    "            axis_f.set_ylabel('Gradient', fontsize=22)\n",
    "            \n",
    "            for n in range(network.nspec):\n",
    "                axis_f.plot(xnp, pfnp[:,n],\n",
    "                            color='orange', lw=3, alpha=0.5)\n",
    "\n",
    "                axis_f.plot(xnp, dpdxnp[:,n],\n",
    "                            color='magenta', lw=3, ls=':', alpha=0.5)\n",
    "\n",
    "                axis_f.scatter(xnp, fnp[:,n],\n",
    "                               color='blue', alpha=0.5, s=20)\n",
    "                \n",
    "            axis_f_t.plot(xnp, pfnp[:,network.net_itemp],\n",
    "                          color='orange', lw=3, alpha=0.5)\n",
    "\n",
    "            axis_f_t.plot(xnp, dpdxnp[:,network.net_itemp],\n",
    "                          color='magenta', lw=3, ls=':', alpha=0.5)\n",
    "\n",
    "            axis_f_t.scatter(xnp, fnp[:,network.net_itemp],\n",
    "                             color='blue', alpha=0.5, s=20)\n",
    "            \n",
    "            axis_f.tick_params(axis='both', which='major', labelsize=16)\n",
    "            axis_f_t.tick_params(axis='both', which='major', labelsize=16)\n",
    "\n",
    "            # get min/max in x/y to set label positions relative to the axes\n",
    "            xmin = 0\n",
    "            xmax = end_time\n",
    "            ymin = 0\n",
    "            ymax = 1\n",
    "\n",
    "            height = np.abs(ymax - ymin)\n",
    "            width = np.abs(xmax - xmin)\n",
    "\n",
    "            axis_p.set_xlim(xmin, xmax)\n",
    "            axis_p.set_ylim(ymin, ymax)\n",
    "\n",
    "            axis_p.text(xmin, ymax + height*0.3,\n",
    "                      'Step = %d' % t, fontdict={'size': 24, 'color': 'blue'})\n",
    "            axis_p.text(xmin + width*0.5, ymax + height*0.3,\n",
    "                      'Train Loss = %.2e' % loss.cpu().data.numpy(),\n",
    "                      fontdict={'size': 24, 'color': 'blue'})\n",
    "            axis_p.text(xmin + width*0.5, ymax + height*0.1,\n",
    "                      'Test Loss = %.2e' % test_loss,\n",
    "                      fontdict={'size': 24, 'color': 'orange'})\n",
    "\n",
    "            axis_p.tick_params(axis='both', which='major', labelsize=16)\n",
    "            axis_p_t.tick_params(axis='both', which='major', labelsize=16)\n",
    "\n",
    "            # plot errors evolving with the number of epochs trained\n",
    "            epochs.append(t)\n",
    "            losses.append(loss.cpu().data.numpy())\n",
    "            losses0.append(loss0.cpu().data.numpy())\n",
    "            losses1.append(loss1.cpu().data.numpy())\n",
    "            tlosses.append(test_loss)\n",
    "\n",
    "            axis_e.clear()\n",
    "            axis_e1.clear()\n",
    "\n",
    "            axis_e.set_xlabel('Epoch', fontsize=22)\n",
    "            axis_e.set_ylabel('Error 0', fontsize=22)\n",
    "\n",
    "            axis_e.scatter([epochs[-1]], [losses0[-1]],\n",
    "                           color=\"red\", alpha=0.5)\n",
    "            axis_e.plot(epochs, losses0,\n",
    "                        'b-', lw=3, alpha=0.5)\n",
    "\n",
    "            axis_e.scatter([epochs[-1]], [test_loss],\n",
    "                           color=\"red\", alpha=0.5)\n",
    "            axis_e.plot(epochs, tlosses,\n",
    "                        'orange', lw=3, ls=\"--\", alpha=0.5)\n",
    "\n",
    "            axis_e1.set_ylabel('Error 1', fontsize=22)\n",
    "\n",
    "            axis_e1.scatter([epochs[-1]], [losses1[-1]],\n",
    "                           color=\"red\", alpha=0.5)\n",
    "            axis_e1.plot(epochs, losses1,\n",
    "                         'g-', lw=3, alpha=0.5)\n",
    "            \n",
    "            axis_e.get_yaxis().set_major_formatter(\n",
    "                matplotlib.ticker.FuncFormatter(lambda x, p: \"{:0.1f}\".format(x)))\n",
    "            \n",
    "            axis_e1.get_yaxis().set_major_formatter(\n",
    "                matplotlib.ticker.FuncFormatter(lambda x, p: \"{:0.1f}\".format(x)))\n",
    "\n",
    "            axis_e.tick_params(axis='both', which='major', labelsize=16)\n",
    "            axis_e1.tick_params(axis='both', which='major', labelsize=16)\n",
    "\n",
    "            # Draw on canvas and save image in sequence\n",
    "            fig.canvas.draw()\n",
    "            plt.tight_layout()\n",
    "            image = np.frombuffer(fig.canvas.tostring_rgb(), dtype='uint8')\n",
    "            image = image.reshape(fig.canvas.get_width_height()[::-1] + (3,))\n",
    "\n",
    "            training_images.append(image)\n",
    "\n",
    "            # Print epoch/error notifications\n",
    "            if t % 100 == 0:\n",
    "                print('epoch ', t, ' with error: ', losses[-1])\n",
    "           \n",
    "        # Stop early if our errors are plateauing\n",
    "        if t > 1000:\n",
    "            # do a quadratic polynomial fit and see if we will\n",
    "            # need more than NumEpochs for the error e to vanish:\n",
    "            # e / (d(e)/d(epoch)) > NumEpochs ?\n",
    "            # if so, then break out of the training loop ...\n",
    "            xfit = epochs[-4:]\n",
    "            efit = losses[-4:]\n",
    "            coef = np.polyfit(xfit, efit, 2)\n",
    "            \n",
    "            if coef[2]/coef[1] > NumEpochs:\n",
    "                break"
   ]
  },
  {
   "cell_type": "code",
   "execution_count": 24,
   "metadata": {},
   "outputs": [
    {
     "name": "stdout",
     "output_type": "stream",
     "text": [
      "epoch  0  with error:  1.1363057\n",
      "epoch  100  with error:  0.71194744\n"
     ]
    },
    {
     "data": {
      "text/plain": [
       "<Figure size 432x288 with 0 Axes>"
      ]
     },
     "metadata": {},
     "output_type": "display_data"
    }
   ],
   "source": [
    "train_error(200)"
   ]
  },
  {
   "cell_type": "code",
   "execution_count": 25,
   "metadata": {},
   "outputs": [],
   "source": [
    "imageio.mimsave('./starkiller.gif', training_images, fps=10)"
   ]
  },
  {
   "cell_type": "code",
   "execution_count": 26,
   "metadata": {},
   "outputs": [
    {
     "name": "stdout",
     "output_type": "stream",
     "text": [
      "final test sample error:  0.6951537\n"
     ]
    }
   ],
   "source": [
    "print(\"final test sample error: \", tlosses[-1])"
   ]
  },
  {
   "cell_type": "code",
   "execution_count": null,
   "metadata": {},
   "outputs": [],
   "source": []
  }
 ],
 "metadata": {
  "kernelspec": {
   "display_name": "Python 3",
   "language": "python",
   "name": "python3"
  },
  "language_info": {
   "codemirror_mode": {
    "name": "ipython",
    "version": 3
   },
   "file_extension": ".py",
   "mimetype": "text/x-python",
   "name": "python",
   "nbconvert_exporter": "python",
   "pygments_lexer": "ipython3",
   "version": "3.8.2"
  }
 },
 "nbformat": 4,
 "nbformat_minor": 4
}
