{
 "cells": [
  {
   "cell_type": "code",
   "execution_count": 1,
   "metadata": {},
   "outputs": [],
   "source": [
    "import matplotlib.pyplot as plt\n",
    "import pandas as pd"
   ]
  },
  {
   "cell_type": "code",
   "execution_count": 2,
   "metadata": {},
   "outputs": [],
   "source": [
    "import tensorflow as tf\n",
    "\n",
    "from tensorflow import keras\n",
    "from tensorflow.keras import layers\n",
    "\n",
    "tf.keras.backend.set_floatx('float32')"
   ]
  },
  {
   "cell_type": "code",
   "execution_count": 3,
   "metadata": {},
   "outputs": [],
   "source": [
    "from StarKiller.initialization import starkiller_initialize\n",
    "from StarKiller.interfaces import BurnType, EosType\n",
    "from StarKiller.integration import Integrator\n",
    "from StarKiller.network import Network\n",
    "from StarKiller.eos import Eos\n",
    "import numpy as np"
   ]
  },
  {
   "cell_type": "code",
   "execution_count": 4,
   "metadata": {},
   "outputs": [],
   "source": [
    "import multiprocessing as mp"
   ]
  },
  {
   "cell_type": "code",
   "execution_count": 5,
   "metadata": {},
   "outputs": [
    {
     "name": "stdout",
     "output_type": "stream",
     "text": [
      "\n",
      "Initialized StarKiller with ...\n",
      "- EOS:     helmholtz\n",
      "- Network: aprox13\n"
     ]
    }
   ],
   "source": [
    "starkiller_initialize(\"probin_aprox13\")\n",
    "network = Network()\n",
    "integrator = Integrator()"
   ]
  },
  {
   "cell_type": "code",
   "execution_count": 6,
   "metadata": {},
   "outputs": [],
   "source": [
    "class Sample(object):\n",
    "    def __init__(self, state_in, dt, prediction_type=\"new\"):\n",
    "        self.state_in = state_in\n",
    "        self.dt = dt\n",
    "        \n",
    "        # Construct a 1D input vector from the input state\n",
    "        self.flatten_inputs()\n",
    "        \n",
    "        # Set the prediction type\n",
    "        Sample.validate_prediction_type(prediction_type)\n",
    "        self.prediction_type = prediction_type\n",
    "    \n",
    "    @staticmethod\n",
    "    def validate_prediction_type(prediction_type):\n",
    "        if not (prediction_type == \"new\" or\n",
    "                prediction_type == \"delta\" or\n",
    "                prediction_type == \"minimal\"):\n",
    "            raise NotImplementedError\n",
    "\n",
    "    def evaluate(self):\n",
    "        # Integrate the reaction network through dt to get the output state\n",
    "        self.state_out = integrator.integrate(self.state_in, self.dt)\n",
    "        \n",
    "        # Construct a 1D output \"truth\" vector from the output state\n",
    "        # depending on the choice of what quantities we want to predict.\n",
    "        self.construct_prediction()\n",
    "\n",
    "    def construct_prediction(self):\n",
    "        if self.prediction_type == \"new\":\n",
    "            self.predict_new()\n",
    "        elif self.prediction_type == \"delta\":\n",
    "            self.predict_deltas()\n",
    "        elif self.prediction_type == \"minimal\":\n",
    "            self.predict_minimal()\n",
    "        else:\n",
    "            raise NotImplementedError\n",
    "        \n",
    "        self.output_size = self.output_data.size\n",
    "    \n",
    "    def flatten_inputs(self):\n",
    "        self.input_data = np.array([self.dt, self.state_in.state.rho, self.state_in.state.t])\n",
    "        self.input_data = np.append(self.input_data, self.state_in.state.xn)\n",
    "        self.input_size = self.input_data.size\n",
    "        \n",
    "    def predict_new(self):\n",
    "        self.output_data = np.array([self.state_out.state.e, self.state_out.state.t])\n",
    "        self.output_data = np.append(self.output_data, self.state_out.state.xn)\n",
    "        \n",
    "    def predict_deltas(self):\n",
    "        delta_e = self.state_out.state.e\n",
    "        delta_t = self.state_out.state.t - self.state_in.state.t\n",
    "        delta_x = self.state_out.state.xn - self.state_in.state.xn\n",
    "        \n",
    "        self.output_data = np.array([delta_e, delta_t])\n",
    "        self.output_data = np.append(self.output_data, delta_x)\n",
    "        \n",
    "    def predict_minimal(self):\n",
    "        # predict only e, t, and X(He-4) from input t alone\n",
    "        self.output_data = np.array([self.state_out.state.e, self.state_out.state.t])\n",
    "        \n",
    "    def scale(self, density_scale = 1.0, temperature_scale = 1.0, energy_scale = 1.0, timestep_scale = 1.0):\n",
    "        # scale timestep, density, temperature in inputs\n",
    "        self.input_data[0] /= timestep_scale\n",
    "        self.input_data[1] /= density_scale\n",
    "        self.input_data[2] /= temperature_scale\n",
    "        \n",
    "        # scale energy and temperature in outputs\n",
    "        self.output_data[0] /= energy_scale\n",
    "        self.output_data[1] /= temperature_scale\n",
    "        \n",
    "    def reduce_input_dimensions(self, indexes):\n",
    "        self.input_data = np.array([self.input_data[i] for i in indexes])\n",
    "        self.input_size = self.input_data.size\n",
    "        \n",
    "class SampleSet(object):\n",
    "    def __init__(self, prediction_type=\"new\"):\n",
    "        Sample.validate_prediction_type(prediction_type)\n",
    "        self.prediction_type = prediction_type\n",
    "        \n",
    "        self.samples = []\n",
    "        \n",
    "    def __iter__(self):\n",
    "        return iter(self.samples)\n",
    "    \n",
    "    def __getitem__(self, item):\n",
    "        return self.samples[item]\n",
    "\n",
    "    def create(self, *args):\n",
    "        self.samples.append(Sample(*args, self.prediction_type))\n",
    "\n",
    "    def output_size(self):\n",
    "        if not self.samples:\n",
    "            raise NotImplementedError\n",
    "        else:\n",
    "            return self.samples[0].output_size\n",
    "\n",
    "    def input_size(self):\n",
    "        if not self.samples:\n",
    "            raise NotImplementedError\n",
    "        else:\n",
    "            return self.samples[0].input_size"
   ]
  },
  {
   "cell_type": "code",
   "execution_count": 7,
   "metadata": {},
   "outputs": [
    {
     "name": "stdout",
     "output_type": "stream",
     "text": [
      "density_scale =  100000000.0\n",
      "temperature_scale =  100000000.0\n",
      "energy_scale =  8948090280514663.0\n",
      "timestep_scale =  1e-06\n"
     ]
    }
   ],
   "source": [
    "# Input sampling domain & scaling\n",
    "dens_lo = 1.0e8\n",
    "dens_hi = 1.0e8\n",
    "temp_lo = 1.0e8\n",
    "temp_hi = 1.5e8\n",
    "xhe_lo = 1.0\n",
    "xhe_hi = 1.0\n",
    "dt_lo = 1.0e-6\n",
    "dt_hi = 1.0e-6\n",
    "\n",
    "density_scale = dens_lo\n",
    "temperature_scale = temp_lo\n",
    "timestep_scale = dt_lo\n",
    "\n",
    "# do an eos call to set the internal energy scale\n",
    "eos = Eos()\n",
    "eos_state = EosType()\n",
    "\n",
    "# pick a composition for normalization of Ye = 0.5 w/ abar = 12, zbar = 6\n",
    "eos_state.state.abar = 12.0\n",
    "eos_state.state.zbar = 6.0\n",
    "eos_state.state.y_e = eos_state.state.zbar / eos_state.state.abar\n",
    "eos_state.state.mu_e = 1.0 / eos_state.state.y_e\n",
    "\n",
    "# use_raw_inputs uses only abar, zbar, y_e, mu_e for the EOS call\n",
    "# instead of setting those from the mass fractions\n",
    "eos.evaluate(eos_state.eos_input_rt, eos_state, use_raw_inputs=True)\n",
    "\n",
    "energy_scale = eos_state.state.e\n",
    "\n",
    "print(\"density_scale = \", density_scale)\n",
    "print(\"temperature_scale = \", temperature_scale)\n",
    "print(\"energy_scale = \", energy_scale)\n",
    "print(\"timestep_scale = \", timestep_scale)"
   ]
  },
  {
   "cell_type": "code",
   "execution_count": 8,
   "metadata": {},
   "outputs": [],
   "source": [
    "# Construct dataset of training & test samples\n",
    "samples = SampleSet(prediction_type=\"minimal\")\n",
    "dataset_size = 10000\n",
    "\n",
    "for i in range(dataset_size):\n",
    "    # Randomly construct an input state within the sampling domain\n",
    "    state_in = BurnType()\n",
    "    \n",
    "    ## density & temperature\n",
    "    state_in.state.rho = np.random.uniform(low=dens_lo, high=dens_hi)\n",
    "    state_in.state.t = np.random.uniform(low=temp_lo, high=temp_hi)\n",
    "    \n",
    "    ## mass fractions\n",
    "    state_in.state.xn = np.zeros(network.nspec)\n",
    "    xhe = np.random.uniform(low=xhe_lo, high=xhe_hi)\n",
    "    state_in.state.xn[:] = (1.0-xhe)/(network.nspec-1)\n",
    "    state_in.state.xn[network.species_map[\"he4\"]] = xhe\n",
    "    \n",
    "    ## ode timestep\n",
    "    dt = np.random.uniform(low=dt_lo, high=dt_hi)\n",
    "    \n",
    "    # Create a sample without evaluating yet\n",
    "    samples.create(state_in, dt)\n",
    "    \n",
    "for s in samples:\n",
    "    s.evaluate()"
   ]
  },
  {
   "cell_type": "code",
   "execution_count": 9,
   "metadata": {},
   "outputs": [],
   "source": [
    "def pool_get_samples():\n",
    "    # this doesn't seem to work quite right yet ... or maybe just not within the notebook??\n",
    "    pool = mp.Pool()\n",
    "\n",
    "    evaluated_samples = []\n",
    "\n",
    "    def append_to_list(s):\n",
    "        evaluated_samples.append(s)\n",
    "\n",
    "    def evaluate_sample(s):\n",
    "        s.evaluate()\n",
    "        return s\n",
    "\n",
    "    for i in range(len(samples.samples)):\n",
    "        pool.apply_async(evaluate_sample, args=(samples.samples[i],), callback=append_to_list)\n",
    "\n",
    "    pool.close()\n",
    "    pool.join()\n",
    "\n",
    "    samples.samples = evaluated_samples"
   ]
  },
  {
   "cell_type": "code",
   "execution_count": 10,
   "metadata": {},
   "outputs": [],
   "source": [
    "# Rescale the samples\n",
    "for s in samples:\n",
    "    s.scale(density_scale=density_scale,\n",
    "            temperature_scale=temperature_scale,\n",
    "            energy_scale=energy_scale/100.0,\n",
    "            timestep_scale=timestep_scale)\n",
    "    s.reduce_input_dimensions([2])"
   ]
  },
  {
   "cell_type": "code",
   "execution_count": 11,
   "metadata": {},
   "outputs": [
    {
     "data": {
      "image/png": "[encoded data removed]",
      "text/plain": [
       "<Figure size 432x288 with 1 Axes>"
      ]
     },
     "metadata": {
      "needs_background": "light"
     },
     "output_type": "display_data"
    },
    {
     "data": {
      "image/png": "[encoded data removed]",
      "text/plain": [
       "<Figure size 432x288 with 1 Axes>"
      ]
     },
     "metadata": {
      "needs_background": "light"
     },
     "output_type": "display_data"
    }
   ],
   "source": [
    "# Plot each input & output value vs input temperature\n",
    "input_temp = np.array([s.input_data[0] for s in samples])\n",
    "\n",
    "# This index i goes into the outputs\n",
    "for i in range(samples.output_size()):\n",
    "    output_string_i = \"\"\n",
    "    ode_out_i = np.array([s.output_data[i] for s in samples])\n",
    "    \n",
    "    fig, axis = plt.subplots()\n",
    "    \n",
    "    axis.scatter(input_temp, ode_out_i, color='blue', alpha=0.1)\n",
    "    \n",
    "    axis.set_ylabel(\"Output {}\".format(i))\n",
    "    axis.set_xlabel(\"Initial Temperature\")"
   ]
  },
  {
   "cell_type": "code",
   "execution_count": 12,
   "metadata": {},
   "outputs": [
    {
     "name": "stdout",
     "output_type": "stream",
     "text": [
      "training input data is of shape:  (9995, 1)\n",
      "training output data is of shape:  (9995, 2)\n",
      "test input data is of shape:  (5, 1)\n",
      "test output data is of shape:  (5, 2)\n"
     ]
    }
   ],
   "source": [
    "# Separate sample dataset into training & testing samples\n",
    "train_input_data = []\n",
    "train_output_data = []\n",
    "\n",
    "test_input_data = []\n",
    "test_output_data = []\n",
    "\n",
    "randomly_sort_samples = False\n",
    "\n",
    "if randomly_sort_samples:\n",
    "    for s in samples:\n",
    "        x = np.random.uniform()\n",
    "        if x > 0.2:\n",
    "            train_input_data.append(s.input_data)\n",
    "            train_output_data.append(s.output_data)\n",
    "        else:\n",
    "            test_input_data.append(s.input_data)\n",
    "            test_output_data.append(s.output_data)\n",
    "else:\n",
    "    train_input_data = [s.input_data for s in samples[:-5]]\n",
    "    train_output_data = [s.output_data for s in samples[:-5]]\n",
    "    test_input_data = [s.input_data for s in samples[-5:]]\n",
    "    test_output_data = [s.output_data for s in samples[-5:]]\n",
    "        \n",
    "train_input_data = np.array(train_input_data)\n",
    "train_output_data = np.array(train_output_data)\n",
    "\n",
    "test_input_data = np.array(test_input_data)\n",
    "test_output_data = np.array(test_output_data)\n",
    "\n",
    "print(\"training input data is of shape: \", np.shape(train_input_data))\n",
    "print(\"training output data is of shape: \", np.shape(train_output_data))\n",
    "print(\"test input data is of shape: \", np.shape(test_input_data))\n",
    "print(\"test output data is of shape: \", np.shape(test_output_data))"
   ]
  },
  {
   "cell_type": "code",
   "execution_count": 13,
   "metadata": {},
   "outputs": [],
   "source": [
    "def build_model():\n",
    "    # this specifies the input to the first hidden layer (same number of nodes as a sample input shape)\n",
    "    # then an additional hidden layer with 128 nodes\n",
    "    # then the output layer with nspec+2 nodes\n",
    "    model = keras.Sequential([\n",
    "        layers.Dense(3+network.nspec, activation='sigmoid', input_shape=(samples.input_size(),), dtype='float32'),\n",
    "        layers.Dense(128, activation='sigmoid', dtype='float32'),\n",
    "        layers.Dense(samples.output_size(), dtype='float32')\n",
    "    ])\n",
    "    \n",
    "    # this is gradient descent, and it multiplies the gradient by learning_rate to get\n",
    "    # the weight updates. Without momentum the update is:\n",
    "    # (no momentum): w = w - learning_rate * gradient\n",
    "    # (momentum):\n",
    "    ###   velocity = momentum * velocity - learning_rate * gradient\n",
    "    ## (momentum w/ nesterov):\n",
    "    ###   w = w * velocity\n",
    "    ## (momentum w/o nesterov):\n",
    "    ###   w = w + momentum * velocity - learning_rate * gradient\n",
    "    optimizer = tf.keras.optimizers.SGD(learning_rate=0.01, momentum=0.5, nesterov=True)\n",
    "    \n",
    "    #optimizer = tf.keras.optimizers.Adam()\n",
    "    \n",
    "    model.compile(loss=tf.keras.losses.MeanAbsolutePercentageError(),\n",
    "                  optimizer=optimizer,\n",
    "                  metrics=[tf.keras.metrics.MeanSquaredError(),\n",
    "                           tf.keras.metrics.MeanAbsolutePercentageError()])\n",
    "    return model"
   ]
  },
  {
   "cell_type": "code",
   "execution_count": 14,
   "metadata": {},
   "outputs": [],
   "source": [
    "model = build_model()"
   ]
  },
  {
   "cell_type": "code",
   "execution_count": 15,
   "metadata": {},
   "outputs": [
    {
     "name": "stdout",
     "output_type": "stream",
     "text": [
      "Model: \"sequential\"\n",
      "_________________________________________________________________\n",
      "Layer (type)                 Output Shape              Param #   \n",
      "=================================================================\n",
      "dense (Dense)                (None, 16)                32        \n",
      "_________________________________________________________________\n",
      "dense_1 (Dense)              (None, 128)               2176      \n",
      "_________________________________________________________________\n",
      "dense_2 (Dense)              (None, 2)                 258       \n",
      "=================================================================\n",
      "Total params: 2,466\n",
      "Trainable params: 2,466\n",
      "Non-trainable params: 0\n",
      "_________________________________________________________________\n"
     ]
    }
   ],
   "source": [
    "model.summary()"
   ]
  },
  {
   "cell_type": "code",
   "execution_count": 16,
   "metadata": {},
   "outputs": [],
   "source": [
    "def plot_history(history):\n",
    "    hist = pd.DataFrame(history.history)\n",
    "    hist['epoch'] = history.epoch\n",
    "    \n",
    "    plt.figure()\n",
    "    plt.xlabel('Epoch')\n",
    "    plt.ylabel('Mean Abs Percentage Error')\n",
    "    plt.plot(hist['epoch'], hist['mean_absolute_percentage_error'],\n",
    "           label='Train Error')\n",
    "    plt.plot(hist['epoch'], hist['val_mean_absolute_percentage_error'],\n",
    "           label = 'Val Error')\n",
    "    plt.legend()\n",
    "    plt.show()\n",
    "\n",
    "    plt.figure()\n",
    "    plt.xlabel('Epoch')\n",
    "    plt.ylabel('Mean Square Error')\n",
    "    plt.plot(hist['epoch'], hist['mean_squared_error'],\n",
    "           label='Train Error')\n",
    "    plt.plot(hist['epoch'], hist['val_mean_squared_error'],\n",
    "           label = 'Val Error')\n",
    "    plt.legend()\n",
    "    plt.show()"
   ]
  },
  {
   "cell_type": "code",
   "execution_count": 17,
   "metadata": {},
   "outputs": [],
   "source": [
    "def KerasFitModel():\n",
    "    # Stop early by monitoring loss for the validation ensemble\n",
    "    early_stop = keras.callbacks.EarlyStopping(monitor='val_loss', patience=100)\n",
    "    \n",
    "    # Display training progress by printing a single dot for each completed epoch\n",
    "    class PrintDot(keras.callbacks.Callback):\n",
    "        def on_epoch_end(self, epoch, logs):\n",
    "            if epoch % 100 == 0:\n",
    "                print('.', end='')\n",
    "            if epoch % 1000 == 0:\n",
    "                print('')\n",
    "\n",
    "    history = model.fit(train_input_data, train_output_data, batch_size=100000, verbose=0,\n",
    "                        epochs=10000, validation_split=0.2, callbacks=[PrintDot(), early_stop])\n",
    "\n",
    "    plot_history(history)"
   ]
  },
  {
   "cell_type": "code",
   "execution_count": 18,
   "metadata": {},
   "outputs": [],
   "source": [
    "def CustomFitModel():\n",
    "    dataset = tf.data.Dataset.from_tensor_slices((train_input_data, train_output_data)).batch(1)\n",
    "    \n",
    "    for input, target in dataset:\n",
    "        print(\"shape of input: \", tf.shape(input))\n",
    "        print(\"shape of target: \", tf.shape(target))\n",
    "        with tf.GradientTape(persistent=True) as tape:\n",
    "            prediction = model(input)\n",
    "            \n",
    "            # calculate loss\n",
    "            # error 1: y_pred = y_true\n",
    "            Error1 = tf.reduce_mean(tf.square(target - prediction))\n",
    "            \n",
    "        gradients1 = tape.gradient(Error1, model.trainable_weights)\n",
    "        print(\"shape of error1: \", tf.shape(Error1))\n",
    "        \n",
    "        #print(\"shape of gradients1: \", tf.shape(gradients1))\n",
    "        \n",
    "        \n",
    "        dpred_dinput = tape.gradient(prediction, input)\n",
    "        print(\"shape of dpred_dinput: \", tf.shape(dpred_dinput))\n",
    "        \n",
    "        #dpred_dinput_array = tf.make_ndarray(dpred_dinput)\n",
    "        \n",
    "        # error 2: d(y_pred)/dt = F(y_true)\n",
    "        del tape\n",
    "        break"
   ]
  },
  {
   "cell_type": "code",
   "execution_count": 19,
   "metadata": {},
   "outputs": [
    {
     "name": "stdout",
     "output_type": "stream",
     "text": [
      ".\n",
      "."
     ]
    },
    {
     "data": {
      "image/png": "[encoded data removed]",
      "text/plain": [
       "<Figure size 432x288 with 1 Axes>"
      ]
     },
     "metadata": {
      "needs_background": "light"
     },
     "output_type": "display_data"
    },
    {
     "data": {
      "image/png": "[encoded data removed]",
      "text/plain": [
       "<Figure size 432x288 with 1 Axes>"
      ]
     },
     "metadata": {
      "needs_background": "light"
     },
     "output_type": "display_data"
    }
   ],
   "source": [
    "KerasFitModel()"
   ]
  },
  {
   "cell_type": "code",
   "execution_count": 20,
   "metadata": {},
   "outputs": [],
   "source": [
    "def plot_prediction_truth(test_input_data, test_output_data):\n",
    "    test_predictions = model.predict(test_input_data)\n",
    "\n",
    "    test_predictions = np.transpose(test_predictions)\n",
    "    test_truth = np.transpose(test_output_data)\n",
    "\n",
    "    for i, (predicted, truth) in enumerate(zip(test_predictions, test_truth)):\n",
    "        fig, axis = plt.subplots()\n",
    "        axis.scatter(truth, predicted)\n",
    "        axis.set_xlabel(\"truth\")\n",
    "        axis.set_ylabel(\"prediction\")\n",
    "        axis.axis(\"equal\")\n",
    "        axis.axis(\"square\")\n",
    "        plt.savefig(\"truth_map_{}.png\".format(i))"
   ]
  },
  {
   "cell_type": "code",
   "execution_count": 21,
   "metadata": {},
   "outputs": [
    {
     "data": {
      "image/png": "[encoded data removed]",
      "text/plain": [
       "<Figure size 432x288 with 1 Axes>"
      ]
     },
     "metadata": {
      "needs_background": "light"
     },
     "output_type": "display_data"
    },
    {
     "data": {
      "image/png": "[encoded data removed]",
      "text/plain": [
       "<Figure size 432x288 with 1 Axes>"
      ]
     },
     "metadata": {
      "needs_background": "light"
     },
     "output_type": "display_data"
    }
   ],
   "source": [
    "plot_prediction_truth(test_input_data, test_output_data)"
   ]
  },
  {
   "cell_type": "code",
   "execution_count": null,
   "metadata": {},
   "outputs": [],
   "source": []
  },
  {
   "cell_type": "code",
   "execution_count": null,
   "metadata": {
    "scrolled": true
   },
   "outputs": [],
   "source": []
  }
 ],
 "metadata": {
  "kernelspec": {
   "display_name": "Python 3",
   "language": "python",
   "name": "python3"
  },
  "language_info": {
   "codemirror_mode": {
    "name": "ipython",
    "version": 3
   },
   "file_extension": ".py",
   "mimetype": "text/x-python",
   "name": "python",
   "nbconvert_exporter": "python",
   "pygments_lexer": "ipython3",
   "version": "3.8.2"
  }
 },
 "nbformat": 4,
 "nbformat_minor": 4
}
