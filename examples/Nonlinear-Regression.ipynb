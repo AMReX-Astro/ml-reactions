{
 "cells": [
  {
   "cell_type": "code",
   "execution_count": 1,
   "metadata": {},
   "outputs": [],
   "source": [
    "import matplotlib.pyplot as plt\n",
    "import pandas as pd"
   ]
  },
  {
   "cell_type": "code",
   "execution_count": 2,
   "metadata": {},
   "outputs": [],
   "source": [
    "import torch\n",
    "import torch.nn as nn\n",
    "import torch.nn.functional as F\n",
    "from torch.autograd import Variable"
   ]
  },
  {
   "cell_type": "code",
   "execution_count": 3,
   "metadata": {},
   "outputs": [],
   "source": [
    "import numpy as np"
   ]
  },
  {
   "cell_type": "code",
   "execution_count": 4,
   "metadata": {},
   "outputs": [],
   "source": [
    "from itertools import cycle"
   ]
  },
  {
   "cell_type": "code",
   "execution_count": 5,
   "metadata": {},
   "outputs": [],
   "source": [
    "import imageio"
   ]
  },
  {
   "cell_type": "code",
   "execution_count": 6,
   "metadata": {},
   "outputs": [],
   "source": [
    "# Set use_cuda=True to use an available GPU\n",
    "use_cuda=False"
   ]
  },
  {
   "cell_type": "code",
   "execution_count": 7,
   "metadata": {},
   "outputs": [
    {
     "data": {
      "text/plain": [
       "Text(0.5, 0, 'Input')"
      ]
     },
     "execution_count": 7,
     "metadata": {},
     "output_type": "execute_result"
    },
    {
     "data": {
      "image/png": "[encoded data removed]",
      "text/plain": [
       "<Figure size 1152x648 with 1 Axes>"
      ]
     },
     "metadata": {
      "needs_background": "light"
     },
     "output_type": "display_data"
    }
   ],
   "source": [
    "x = torch.unsqueeze(torch.linspace(0.0, 1.0, 64, requires_grad=True), dim=1)\n",
    "\n",
    "if use_cuda:\n",
    "    x = x.cuda()\n",
    "\n",
    "y = 10 * torch.exp(1 * x)\n",
    "\n",
    "x = Variable(x, requires_grad=True)\n",
    "y = Variable(y, requires_grad=True)\n",
    "\n",
    "x.retain_grad()\n",
    "\n",
    "fig, axis = plt.subplots(figsize=(16,9))\n",
    "\n",
    "axis.scatter(x.cpu().data.numpy(), y.cpu().data.numpy(),\n",
    "             color='blue', alpha=0.5)\n",
    "\n",
    "axis.set_ylabel(\"Output\")\n",
    "axis.set_xlabel(\"Input\")"
   ]
  },
  {
   "cell_type": "code",
   "execution_count": 8,
   "metadata": {},
   "outputs": [],
   "source": [
    "class HiddenNet(nn.Module):\n",
    "    def __init__(self, n_independent, n_dependent,\n",
    "                 n_hidden, hidden_depth, activation):\n",
    "        super(HiddenNet, self).__init__()\n",
    "        \n",
    "        self.activation = activation\n",
    "        self.input_layer = nn.Linear(n_independent, n_hidden)\n",
    "        self.hidden_layers = nn.ModuleList()\n",
    "        for i in range(hidden_depth):\n",
    "            self.hidden_layers.append(nn.Linear(n_hidden, n_hidden))\n",
    "        self.output_layer = nn.Linear(n_hidden, n_dependent)\n",
    "        \n",
    "    def forward(self, x):\n",
    "        x = self.activation(self.input_layer(x))\n",
    "        for h in self.hidden_layers:\n",
    "            x = self.activation(h(x))\n",
    "        x = self.output_layer(x)\n",
    "        return x"
   ]
  },
  {
   "cell_type": "code",
   "execution_count": 9,
   "metadata": {},
   "outputs": [],
   "source": [
    "class SimpleNet(nn.Module):\n",
    "    def __init__(self):\n",
    "        super().__init__()\n",
    "        \n",
    "        self.a = torch.nn.Parameter(torch.tensor(5.0))\n",
    "        self.b = torch.nn.Parameter(torch.tensor(1.0))\n",
    "\n",
    "    def forward(self, x):\n",
    "        return self.a * torch.exp(self.b * x)\n",
    "        #return self.a * x + self.b"
   ]
  },
  {
   "cell_type": "code",
   "execution_count": 10,
   "metadata": {},
   "outputs": [],
   "source": [
    "#net = SimpleNet()"
   ]
  },
  {
   "cell_type": "code",
   "execution_count": 11,
   "metadata": {},
   "outputs": [],
   "source": [
    "net = HiddenNet(n_independent=1, n_dependent=1,\n",
    "                n_hidden=2, hidden_depth=4, activation=F.celu)"
   ]
  },
  {
   "cell_type": "code",
   "execution_count": 12,
   "metadata": {},
   "outputs": [],
   "source": [
    "if use_cuda:\n",
    "    net.cuda()"
   ]
  },
  {
   "cell_type": "code",
   "execution_count": 13,
   "metadata": {},
   "outputs": [
    {
     "name": "stdout",
     "output_type": "stream",
     "text": [
      "HiddenNet(\n",
      "  (input_layer): Linear(in_features=1, out_features=2, bias=True)\n",
      "  (hidden_layers): ModuleList(\n",
      "    (0): Linear(in_features=2, out_features=2, bias=True)\n",
      "    (1): Linear(in_features=2, out_features=2, bias=True)\n",
      "    (2): Linear(in_features=2, out_features=2, bias=True)\n",
      "    (3): Linear(in_features=2, out_features=2, bias=True)\n",
      "  )\n",
      "  (output_layer): Linear(in_features=2, out_features=1, bias=True)\n",
      ")\n"
     ]
    }
   ],
   "source": [
    "print(net)"
   ]
  },
  {
   "cell_type": "code",
   "execution_count": 14,
   "metadata": {},
   "outputs": [],
   "source": [
    "optimizer_sgd = torch.optim.SGD(net.parameters(), lr=0.01, momentum=0.9)\n",
    "optimizer_adam = torch.optim.Adam(net.parameters(), lr=0.01)"
   ]
  },
  {
   "cell_type": "code",
   "execution_count": 15,
   "metadata": {},
   "outputs": [],
   "source": [
    "optimizers = cycle([optimizer_sgd, optimizer_adam])"
   ]
  },
  {
   "cell_type": "code",
   "execution_count": 16,
   "metadata": {},
   "outputs": [],
   "source": [
    "loss_func = torch.nn.MSELoss()"
   ]
  },
  {
   "cell_type": "code",
   "execution_count": 17,
   "metadata": {},
   "outputs": [
    {
     "data": {
      "image/png": "[encoded data removed]",
      "text/plain": [
       "<Figure size 1152x648 with 3 Axes>"
      ]
     },
     "metadata": {
      "needs_background": "light"
     },
     "output_type": "display_data"
    }
   ],
   "source": [
    "training_images = []\n",
    "# get a multipanel figure showing the prediction (p) and error (e)\n",
    "fig, (axis_p, axis_e) = plt.subplots(nrows=2, ncols=1, figsize=(16,9))\n",
    "axis_e1 = axis_e.twinx()"
   ]
  },
  {
   "cell_type": "code",
   "execution_count": 18,
   "metadata": {},
   "outputs": [],
   "source": [
    "epochs = []\n",
    "losses = []\n",
    "losses0 = []\n",
    "losses1 = []"
   ]
  },
  {
   "cell_type": "code",
   "execution_count": 19,
   "metadata": {},
   "outputs": [],
   "source": [
    "def train_error(NumEpochs):\n",
    "    for t in range(NumEpochs):\n",
    "        # calculate prediction given the current net state\n",
    "        prediction = net(x)\n",
    "\n",
    "        # calculate loss between prediction and reference y\n",
    "        loss0 = torch.sqrt(loss_func(prediction, y))\n",
    "\n",
    "        # calculate gradients d(prediction)/d(input)\n",
    "        # y = a*exp(x), so d^k y(x)/dx^k = y(x)\n",
    "\n",
    "        # first, zero out the existing gradients to avoid\n",
    "        # accumulating gradients on top of existing gradients\n",
    "        net.zero_grad()\n",
    "        if x.grad is not None:\n",
    "            x.grad.data.zero_()\n",
    "\n",
    "        # now get the gradients dp/dx\n",
    "        prediction.backward(torch.ones_like(prediction), retain_graph=True)\n",
    "        dpdx = x.grad\n",
    "\n",
    "        loss1 = torch.sqrt(loss_func(dpdx, y))\n",
    "\n",
    "        loss = loss0 + loss1\n",
    "\n",
    "        # switch between optimizers every 100 steps\n",
    "        #if t % 100 == 0:\n",
    "        #    optimizer = next(optimizers)\n",
    "        optimizer = optimizer_adam\n",
    "\n",
    "        # clear gradients for the next training iteration\n",
    "        optimizer.zero_grad()\n",
    "\n",
    "        # compute backpropagation gradients\n",
    "        loss.backward()\n",
    "\n",
    "        # apply gradients to update the weights\n",
    "        optimizer.step()\n",
    "\n",
    "        # generate plots\n",
    "        if t % (NumEpochs//1000) == 0:\n",
    "            # Prediction plot to show learning progress\n",
    "            axis_p.clear()\n",
    "\n",
    "            axis_p.set_title('Regression Progress', fontsize=36)\n",
    "            axis_p.set_xlabel('Independent Variable', fontsize=22)\n",
    "            axis_p.set_ylabel('Dependent Variable', fontsize=22)\n",
    "\n",
    "            axis_p.scatter(x.cpu().data.numpy(), y.cpu().data.numpy(),\n",
    "                           color=\"orange\", alpha=0.75)\n",
    "            axis_p.plot(x.cpu().data.numpy(), prediction.cpu().data.numpy(),\n",
    "                        'g-', lw=3, alpha=0.75)\n",
    "\n",
    "            # get min/max in x/y to set label positions relative to the axes\n",
    "            ymin = np.min(y.cpu().detach().numpy())\n",
    "            ymax = np.max(y.cpu().detach().numpy())\n",
    "            height = np.abs(ymax - ymin)\n",
    "            xmin = np.min(x.cpu().detach().numpy())\n",
    "            xmax = np.max(x.cpu().detach().numpy())\n",
    "            width = np.abs(xmax - xmin)\n",
    "\n",
    "            axis_p.set_xlim(xmin, xmax)\n",
    "            axis_p.set_ylim(ymin, ymax)\n",
    "\n",
    "            axis_p.text(xmax - width*0.2, ymin + height*0.3,\n",
    "                      'Step = %d' % t, fontdict={'size': 24, 'color': 'blue'})\n",
    "            axis_p.text(xmax - width*0.2, ymin + height*0.1,\n",
    "                      'Loss = %.2e' % loss.cpu().data.numpy(),\n",
    "                      fontdict={'size': 24, 'color': 'blue'})\n",
    "\n",
    "            axis_p.tick_params(axis='both', which='major', labelsize=16)\n",
    "\n",
    "            # Error plot over time\n",
    "            if not epochs:\n",
    "                epochs.append(t)\n",
    "            else:\n",
    "                epochs.append(epochs[-1]+1)\n",
    "\n",
    "            losses.append(loss.cpu().data.numpy())\n",
    "            losses0.append(loss0.cpu().data.numpy())\n",
    "            losses1.append(loss1.cpu().data.numpy())\n",
    "\n",
    "            axis_e.clear()\n",
    "            axis_e1.clear()\n",
    "\n",
    "            axis_e.set_xlabel('Epoch', fontsize=22)\n",
    "            axis_e.set_ylabel('Error 0', fontsize=22)\n",
    "\n",
    "            axis_e.scatter([epochs[-1]], [losses0[-1]],\n",
    "                           color=\"red\", alpha=0.75)\n",
    "            axis_e.plot(epochs, losses0,\n",
    "                        'b-', lw=3, alpha=0.75)\n",
    "\n",
    "            axis_e1.set_ylabel('Error 1', fontsize=22)\n",
    "\n",
    "            axis_e1.scatter([epochs[-1]], [losses1[-1]],\n",
    "                           color=\"red\", alpha=0.75)\n",
    "            axis_e1.plot(epochs, losses1,\n",
    "                         'g-', lw=3, alpha=0.75)\n",
    "\n",
    "            axis_e.tick_params(axis='both', which='major', labelsize=16)\n",
    "            axis_e1.tick_params(axis='both', which='major', labelsize=16)\n",
    "\n",
    "            # Draw on canvas and save image in sequence\n",
    "            fig.canvas.draw()\n",
    "            image = np.frombuffer(fig.canvas.tostring_rgb(), dtype='uint8')\n",
    "            image = image.reshape(fig.canvas.get_width_height()[::-1] + (3,))\n",
    "\n",
    "            training_images.append(image)\n",
    "\n",
    "            # Print epoch/error notifications\n",
    "            if t % (NumEpochs//100) == 0:\n",
    "                print('epoch ', t, ' with error: ', losses[-1])\n",
    "           \n",
    "        # Stop early if our errors are plateauing\n",
    "        if t > 1000:\n",
    "            # do a quadratic polynomial fit and see if we will\n",
    "            # need more than NumEpochs for the error e to vanish:\n",
    "            # e / (d(e)/d(epoch)) > NumEpochs ?\n",
    "            # if so, then break out of the training loop ...\n",
    "            xfit = epochs[-4:]\n",
    "            efit = losses[-4:]\n",
    "            coef = np.polyfit(xfit, efit, 2)\n",
    "            \n",
    "            if coef[2]/coef[1] > NumEpochs:\n",
    "                break"
   ]
  },
  {
   "cell_type": "code",
   "execution_count": 20,
   "metadata": {},
   "outputs": [
    {
     "name": "stdout",
     "output_type": "stream",
     "text": [
      "epoch  0  with error:  35.270004\n",
      "epoch  100  with error:  18.96761\n",
      "epoch  200  with error:  2.5364623\n",
      "epoch  300  with error:  1.0793586\n",
      "epoch  400  with error:  0.90582883\n",
      "epoch  500  with error:  0.83119464\n",
      "epoch  600  with error:  0.7877545\n",
      "epoch  700  with error:  0.75669616\n",
      "epoch  800  with error:  0.73355514\n",
      "epoch  900  with error:  0.7152323\n",
      "epoch  1000  with error:  0.69944257\n",
      "epoch  1100  with error:  0.68584305\n",
      "epoch  1200  with error:  0.6747456\n",
      "epoch  1300  with error:  0.66554207\n",
      "epoch  1400  with error:  0.6577869\n",
      "epoch  1500  with error:  0.65116525\n",
      "epoch  1600  with error:  0.64543676\n",
      "epoch  1700  with error:  0.6404132\n",
      "epoch  1800  with error:  0.63595325\n",
      "epoch  1900  with error:  0.6319514\n"
     ]
    }
   ],
   "source": [
    "train_error(10000)"
   ]
  },
  {
   "cell_type": "code",
   "execution_count": 21,
   "metadata": {},
   "outputs": [],
   "source": [
    "imageio.mimsave('./regression.gif', training_images, fps=20)"
   ]
  },
  {
   "cell_type": "code",
   "execution_count": null,
   "metadata": {},
   "outputs": [],
   "source": []
  }
 ],
 "metadata": {
  "kernelspec": {
   "display_name": "Python 3",
   "language": "python",
   "name": "python3"
  },
  "language_info": {
   "codemirror_mode": {
    "name": "ipython",
    "version": 3
   },
   "file_extension": ".py",
   "mimetype": "text/x-python",
   "name": "python",
   "nbconvert_exporter": "python",
   "pygments_lexer": "ipython3",
   "version": "3.8.2"
  }
 },
 "nbformat": 4,
 "nbformat_minor": 4
}
