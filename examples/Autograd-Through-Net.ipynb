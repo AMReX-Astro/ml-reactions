{
 "cells": [
  {
   "cell_type": "code",
   "execution_count": 1,
   "metadata": {},
   "outputs": [],
   "source": [
    "import torch\n",
    "import torch.nn as nn\n",
    "import torch.nn.functional as F\n",
    "from torch.autograd import Variable"
   ]
  },
  {
   "cell_type": "code",
   "execution_count": 2,
   "metadata": {},
   "outputs": [],
   "source": [
    "x = torch.ones(20, requires_grad=True)"
   ]
  },
  {
   "cell_type": "code",
   "execution_count": 3,
   "metadata": {},
   "outputs": [
    {
     "name": "stdout",
     "output_type": "stream",
     "text": [
      "tensor([1., 1., 1., 1., 1., 1., 1., 1., 1., 1., 1., 1., 1., 1., 1., 1., 1., 1.,\n",
      "        1., 1.], requires_grad=True)\n"
     ]
    }
   ],
   "source": [
    "print(x)"
   ]
  },
  {
   "cell_type": "code",
   "execution_count": 4,
   "metadata": {},
   "outputs": [],
   "source": [
    "x = torch.unsqueeze(x, dim=1)"
   ]
  },
  {
   "cell_type": "code",
   "execution_count": 5,
   "metadata": {},
   "outputs": [],
   "source": [
    "x.retain_grad()"
   ]
  },
  {
   "cell_type": "code",
   "execution_count": 6,
   "metadata": {},
   "outputs": [
    {
     "name": "stdout",
     "output_type": "stream",
     "text": [
      "tensor([[1.],\n",
      "        [1.],\n",
      "        [1.],\n",
      "        [1.],\n",
      "        [1.],\n",
      "        [1.],\n",
      "        [1.],\n",
      "        [1.],\n",
      "        [1.],\n",
      "        [1.],\n",
      "        [1.],\n",
      "        [1.],\n",
      "        [1.],\n",
      "        [1.],\n",
      "        [1.],\n",
      "        [1.],\n",
      "        [1.],\n",
      "        [1.],\n",
      "        [1.],\n",
      "        [1.]], grad_fn=<UnsqueezeBackward0>)\n"
     ]
    }
   ],
   "source": [
    "print(x)"
   ]
  },
  {
   "cell_type": "code",
   "execution_count": 7,
   "metadata": {},
   "outputs": [],
   "source": [
    "class Net(nn.Module):\n",
    "    def __init__(self, n_independent, n_dependent,\n",
    "                 n_hidden, activation):\n",
    "        super(Net, self).__init__()\n",
    "        \n",
    "        self.activation = activation\n",
    "        self.input_layer = nn.Linear(n_independent, n_hidden)\n",
    "        self.output_layer = nn.Linear(n_hidden, n_dependent)\n",
    "        \n",
    "    def forward(self, x):\n",
    "        x = self.activation(self.input_layer(x))\n",
    "        x = self.output_layer(x)\n",
    "        return x"
   ]
  },
  {
   "cell_type": "code",
   "execution_count": 8,
   "metadata": {},
   "outputs": [],
   "source": [
    "net = Net(n_independent=1, n_dependent=1,\n",
    "          n_hidden=1, activation=F.celu)"
   ]
  },
  {
   "cell_type": "code",
   "execution_count": 9,
   "metadata": {},
   "outputs": [],
   "source": [
    "y = net(x)"
   ]
  },
  {
   "cell_type": "code",
   "execution_count": 10,
   "metadata": {},
   "outputs": [],
   "source": [
    "# first, zero out the existing gradients to avoid\n",
    "# accumulating gradients on top of existing gradients\n",
    "net.zero_grad()\n",
    "if x.grad is not None:\n",
    "    x.grad.data.zero_()"
   ]
  },
  {
   "cell_type": "code",
   "execution_count": 11,
   "metadata": {},
   "outputs": [
    {
     "name": "stdout",
     "output_type": "stream",
     "text": [
      "tensor([[0.2046],\n",
      "        [0.2046],\n",
      "        [0.2046],\n",
      "        [0.2046],\n",
      "        [0.2046],\n",
      "        [0.2046],\n",
      "        [0.2046],\n",
      "        [0.2046],\n",
      "        [0.2046],\n",
      "        [0.2046],\n",
      "        [0.2046],\n",
      "        [0.2046],\n",
      "        [0.2046],\n",
      "        [0.2046],\n",
      "        [0.2046],\n",
      "        [0.2046],\n",
      "        [0.2046],\n",
      "        [0.2046],\n",
      "        [0.2046],\n",
      "        [0.2046]], grad_fn=<AddmmBackward>)\n"
     ]
    }
   ],
   "source": [
    "print(y)"
   ]
  },
  {
   "cell_type": "code",
   "execution_count": 12,
   "metadata": {},
   "outputs": [],
   "source": [
    "y.backward(torch.ones_like(y))"
   ]
  },
  {
   "cell_type": "code",
   "execution_count": 13,
   "metadata": {},
   "outputs": [
    {
     "name": "stdout",
     "output_type": "stream",
     "text": [
      "tensor([[0.0043],\n",
      "        [0.0043],\n",
      "        [0.0043],\n",
      "        [0.0043],\n",
      "        [0.0043],\n",
      "        [0.0043],\n",
      "        [0.0043],\n",
      "        [0.0043],\n",
      "        [0.0043],\n",
      "        [0.0043],\n",
      "        [0.0043],\n",
      "        [0.0043],\n",
      "        [0.0043],\n",
      "        [0.0043],\n",
      "        [0.0043],\n",
      "        [0.0043],\n",
      "        [0.0043],\n",
      "        [0.0043],\n",
      "        [0.0043],\n",
      "        [0.0043]])\n"
     ]
    }
   ],
   "source": [
    "print(x.grad)"
   ]
  },
  {
   "cell_type": "code",
   "execution_count": null,
   "metadata": {},
   "outputs": [],
   "source": []
  }
 ],
 "metadata": {
  "kernelspec": {
   "display_name": "Python 3",
   "language": "python",
   "name": "python3"
  },
  "language_info": {
   "codemirror_mode": {
    "name": "ipython",
    "version": 3
   },
   "file_extension": ".py",
   "mimetype": "text/x-python",
   "name": "python",
   "nbconvert_exporter": "python",
   "pygments_lexer": "ipython3",
   "version": "3.8.2"
  }
 },
 "nbformat": 4,
 "nbformat_minor": 4
}
