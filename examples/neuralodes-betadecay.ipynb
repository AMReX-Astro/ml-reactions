{
 "cells": [
  {
   "cell_type": "markdown",
   "metadata": {},
   "source": [
    "The purpose of this notebook is to experiment with Neural ODEs to see why they are useful. Neural ODEs are an extension of Resnets that can use numerical ode solvers to solve a neural network. But why is this useful from a scientific modeling stand point? If either way, we have to solve the ODE (the exact vs or the parametrized rhs).\n",
    "\n",
    "Here we try to answer that.\n",
    "\n",
    "**Note: This notebook will not run for you unless you have my two forks of torchdyn and torchdiffeq installed on the `scipy_info` branch for both**\n",
    "\n",
    "https://github.com/ChrisDeGrendele/torchdiffeq/tree/scipy_info\n",
    "\n",
    "https://github.com/ChrisDeGrendele/torchdyn/tree/scipy_info\n"
   ]
  },
  {
   "cell_type": "code",
   "execution_count": 1,
   "metadata": {},
   "outputs": [
    {
     "name": "stdout",
     "output_type": "stream",
     "text": [
      "Obtaining file:///Users/chris/Desktop/torchdyn\n",
      "  Installing build dependencies ... \u001b[?25ldone\n",
      "\u001b[?25h  Getting requirements to build wheel ... \u001b[?25ldone\n",
      "\u001b[?25h    Preparing wheel metadata ... \u001b[?25ldone\n",
      "\u001b[?25hRequirement already satisfied: torchsde@ http://github.com/google-research/torchsde/tarball/master#egg=torchsde-0.1.1 from http://github.com/google-research/torchsde/tarball/master#egg=torchsde-0.1.1 in /Users/chris/anaconda3/lib/python3.8/site-packages (from torchdyn==0.2.2.2.dev36+ge7428e6.d20210427) (0.2.5)\n",
      "Requirement already satisfied: torch>=1.6.0 in /Users/chris/anaconda3/lib/python3.8/site-packages (from torchdyn==0.2.2.2.dev36+ge7428e6.d20210427) (1.7.1)\n",
      "Requirement already satisfied: matplotlib in /Users/chris/anaconda3/lib/python3.8/site-packages (from torchdyn==0.2.2.2.dev36+ge7428e6.d20210427) (3.3.2)\n",
      "Requirement already satisfied: pytorch-lightning>=0.8.4 in /Users/chris/anaconda3/lib/python3.8/site-packages (from torchdyn==0.2.2.2.dev36+ge7428e6.d20210427) (1.2.1)\n",
      "Requirement already satisfied: dgl>=0.4.1 in /Users/chris/anaconda3/lib/python3.8/site-packages (from torchdyn==0.2.2.2.dev36+ge7428e6.d20210427) (0.6.0)\n",
      "Requirement already satisfied: torchvision in /Users/chris/anaconda3/lib/python3.8/site-packages (from torchdyn==0.2.2.2.dev36+ge7428e6.d20210427) (0.8.2)\n",
      "Requirement already satisfied: torchdiffeq>=0.0.1 in /Users/chris/Desktop/git_tmp/torchdiffeq (from torchdyn==0.2.2.2.dev36+ge7428e6.d20210427) (0.2.1)\n",
      "Requirement already satisfied: scikit-learn in /Users/chris/anaconda3/lib/python3.8/site-packages (from torchdyn==0.2.2.2.dev36+ge7428e6.d20210427) (0.23.2)\n",
      "Requirement already satisfied: numpy==1.19.* in /Users/chris/anaconda3/lib/python3.8/site-packages (from torchsde@ http://github.com/google-research/torchsde/tarball/master#egg=torchsde-0.1.1->torchdyn==0.2.2.2.dev36+ge7428e6.d20210427) (1.19.5)\n",
      "Requirement already satisfied: scipy==1.5.* in /Users/chris/anaconda3/lib/python3.8/site-packages (from torchsde@ http://github.com/google-research/torchsde/tarball/master#egg=torchsde-0.1.1->torchdyn==0.2.2.2.dev36+ge7428e6.d20210427) (1.5.2)\n",
      "Requirement already satisfied: trampoline>=0.1.2 in /Users/chris/anaconda3/lib/python3.8/site-packages (from torchsde@ http://github.com/google-research/torchsde/tarball/master#egg=torchsde-0.1.1->torchdyn==0.2.2.2.dev36+ge7428e6.d20210427) (0.1.2)\n",
      "Requirement already satisfied: boltons>=20.2.1 in /Users/chris/anaconda3/lib/python3.8/site-packages (from torchsde@ http://github.com/google-research/torchsde/tarball/master#egg=torchsde-0.1.1->torchdyn==0.2.2.2.dev36+ge7428e6.d20210427) (20.2.1)\n",
      "Requirement already satisfied: typing-extensions in /Users/chris/anaconda3/lib/python3.8/site-packages (from torch>=1.6.0->torchdyn==0.2.2.2.dev36+ge7428e6.d20210427) (3.7.4.3)\n",
      "Requirement already satisfied: certifi>=2020.06.20 in /Users/chris/anaconda3/lib/python3.8/site-packages (from matplotlib->torchdyn==0.2.2.2.dev36+ge7428e6.d20210427) (2020.6.20)\n",
      "Requirement already satisfied: cycler>=0.10 in /Users/chris/anaconda3/lib/python3.8/site-packages (from matplotlib->torchdyn==0.2.2.2.dev36+ge7428e6.d20210427) (0.10.0)\n",
      "Requirement already satisfied: kiwisolver>=1.0.1 in /Users/chris/anaconda3/lib/python3.8/site-packages (from matplotlib->torchdyn==0.2.2.2.dev36+ge7428e6.d20210427) (1.3.0)\n",
      "Requirement already satisfied: python-dateutil>=2.1 in /Users/chris/anaconda3/lib/python3.8/site-packages (from matplotlib->torchdyn==0.2.2.2.dev36+ge7428e6.d20210427) (2.8.1)\n",
      "Requirement already satisfied: pyparsing!=2.0.4,!=2.1.2,!=2.1.6,>=2.0.3 in /Users/chris/anaconda3/lib/python3.8/site-packages (from matplotlib->torchdyn==0.2.2.2.dev36+ge7428e6.d20210427) (2.4.7)\n",
      "Requirement already satisfied: pillow>=6.2.0 in /Users/chris/anaconda3/lib/python3.8/site-packages (from matplotlib->torchdyn==0.2.2.2.dev36+ge7428e6.d20210427) (8.0.1)\n",
      "Requirement already satisfied: tqdm>=4.41.0 in /Users/chris/anaconda3/lib/python3.8/site-packages (from pytorch-lightning>=0.8.4->torchdyn==0.2.2.2.dev36+ge7428e6.d20210427) (4.50.2)\n",
      "Requirement already satisfied: PyYAML!=5.4.*,>=5.1 in /Users/chris/anaconda3/lib/python3.8/site-packages (from pytorch-lightning>=0.8.4->torchdyn==0.2.2.2.dev36+ge7428e6.d20210427) (5.3.1)\n",
      "Requirement already satisfied: tensorboard>=2.2.0 in /Users/chris/anaconda3/lib/python3.8/site-packages (from pytorch-lightning>=0.8.4->torchdyn==0.2.2.2.dev36+ge7428e6.d20210427) (2.4.1)\n",
      "Requirement already satisfied: future>=0.17.1 in /Users/chris/anaconda3/lib/python3.8/site-packages (from pytorch-lightning>=0.8.4->torchdyn==0.2.2.2.dev36+ge7428e6.d20210427) (0.18.2)\n",
      "Requirement already satisfied: fsspec[http]>=0.8.1 in /Users/chris/anaconda3/lib/python3.8/site-packages (from pytorch-lightning>=0.8.4->torchdyn==0.2.2.2.dev36+ge7428e6.d20210427) (0.8.3)\n",
      "Requirement already satisfied: requests>=2.19.0 in /Users/chris/anaconda3/lib/python3.8/site-packages (from dgl>=0.4.1->torchdyn==0.2.2.2.dev36+ge7428e6.d20210427) (2.24.0)\n",
      "Requirement already satisfied: networkx>=2.1 in /Users/chris/anaconda3/lib/python3.8/site-packages (from dgl>=0.4.1->torchdyn==0.2.2.2.dev36+ge7428e6.d20210427) (2.5)\n",
      "Requirement already satisfied: threadpoolctl>=2.0.0 in /Users/chris/anaconda3/lib/python3.8/site-packages (from scikit-learn->torchdyn==0.2.2.2.dev36+ge7428e6.d20210427) (2.1.0)\n",
      "Requirement already satisfied: joblib>=0.11 in /Users/chris/anaconda3/lib/python3.8/site-packages (from scikit-learn->torchdyn==0.2.2.2.dev36+ge7428e6.d20210427) (0.17.0)\n",
      "Requirement already satisfied: six in /Users/chris/anaconda3/lib/python3.8/site-packages (from cycler>=0.10->matplotlib->torchdyn==0.2.2.2.dev36+ge7428e6.d20210427) (1.15.0)\n",
      "Requirement already satisfied: werkzeug>=0.11.15 in /Users/chris/anaconda3/lib/python3.8/site-packages (from tensorboard>=2.2.0->pytorch-lightning>=0.8.4->torchdyn==0.2.2.2.dev36+ge7428e6.d20210427) (1.0.1)\n",
      "Requirement already satisfied: google-auth-oauthlib<0.5,>=0.4.1 in /Users/chris/anaconda3/lib/python3.8/site-packages (from tensorboard>=2.2.0->pytorch-lightning>=0.8.4->torchdyn==0.2.2.2.dev36+ge7428e6.d20210427) (0.4.2)\n",
      "Requirement already satisfied: setuptools>=41.0.0 in /Users/chris/anaconda3/lib/python3.8/site-packages (from tensorboard>=2.2.0->pytorch-lightning>=0.8.4->torchdyn==0.2.2.2.dev36+ge7428e6.d20210427) (50.3.1.post20201107)\n",
      "Requirement already satisfied: wheel>=0.26; python_version >= \"3\" in /Users/chris/anaconda3/lib/python3.8/site-packages (from tensorboard>=2.2.0->pytorch-lightning>=0.8.4->torchdyn==0.2.2.2.dev36+ge7428e6.d20210427) (0.35.1)\n",
      "Requirement already satisfied: absl-py>=0.4 in /Users/chris/anaconda3/lib/python3.8/site-packages (from tensorboard>=2.2.0->pytorch-lightning>=0.8.4->torchdyn==0.2.2.2.dev36+ge7428e6.d20210427) (0.11.0)\n",
      "Requirement already satisfied: markdown>=2.6.8 in /Users/chris/anaconda3/lib/python3.8/site-packages (from tensorboard>=2.2.0->pytorch-lightning>=0.8.4->torchdyn==0.2.2.2.dev36+ge7428e6.d20210427) (3.3.4)\n",
      "Requirement already satisfied: google-auth<2,>=1.6.3 in /Users/chris/anaconda3/lib/python3.8/site-packages (from tensorboard>=2.2.0->pytorch-lightning>=0.8.4->torchdyn==0.2.2.2.dev36+ge7428e6.d20210427) (1.27.0)\n",
      "Requirement already satisfied: tensorboard-plugin-wit>=1.6.0 in /Users/chris/anaconda3/lib/python3.8/site-packages (from tensorboard>=2.2.0->pytorch-lightning>=0.8.4->torchdyn==0.2.2.2.dev36+ge7428e6.d20210427) (1.8.0)\n",
      "Requirement already satisfied: grpcio>=1.24.3 in /Users/chris/anaconda3/lib/python3.8/site-packages (from tensorboard>=2.2.0->pytorch-lightning>=0.8.4->torchdyn==0.2.2.2.dev36+ge7428e6.d20210427) (1.32.0)\n",
      "Requirement already satisfied: protobuf>=3.6.0 in /Users/chris/anaconda3/lib/python3.8/site-packages (from tensorboard>=2.2.0->pytorch-lightning>=0.8.4->torchdyn==0.2.2.2.dev36+ge7428e6.d20210427) (3.15.3)\n",
      "Requirement already satisfied: aiohttp; extra == \"http\" in /Users/chris/anaconda3/lib/python3.8/site-packages (from fsspec[http]>=0.8.1->pytorch-lightning>=0.8.4->torchdyn==0.2.2.2.dev36+ge7428e6.d20210427) (3.7.4)\n",
      "Requirement already satisfied: idna<3,>=2.5 in /Users/chris/anaconda3/lib/python3.8/site-packages (from requests>=2.19.0->dgl>=0.4.1->torchdyn==0.2.2.2.dev36+ge7428e6.d20210427) (2.10)\n",
      "Requirement already satisfied: urllib3!=1.25.0,!=1.25.1,<1.26,>=1.21.1 in /Users/chris/anaconda3/lib/python3.8/site-packages (from requests>=2.19.0->dgl>=0.4.1->torchdyn==0.2.2.2.dev36+ge7428e6.d20210427) (1.25.10)\n"
     ]
    },
    {
     "name": "stdout",
     "output_type": "stream",
     "text": [
      "Requirement already satisfied: chardet<4,>=3.0.2 in /Users/chris/anaconda3/lib/python3.8/site-packages (from requests>=2.19.0->dgl>=0.4.1->torchdyn==0.2.2.2.dev36+ge7428e6.d20210427) (3.0.4)\n",
      "Requirement already satisfied: decorator>=4.3.0 in /Users/chris/anaconda3/lib/python3.8/site-packages (from networkx>=2.1->dgl>=0.4.1->torchdyn==0.2.2.2.dev36+ge7428e6.d20210427) (4.4.2)\n",
      "Requirement already satisfied: requests-oauthlib>=0.7.0 in /Users/chris/anaconda3/lib/python3.8/site-packages (from google-auth-oauthlib<0.5,>=0.4.1->tensorboard>=2.2.0->pytorch-lightning>=0.8.4->torchdyn==0.2.2.2.dev36+ge7428e6.d20210427) (1.3.0)\n",
      "Requirement already satisfied: rsa<5,>=3.1.4; python_version >= \"3.6\" in /Users/chris/anaconda3/lib/python3.8/site-packages (from google-auth<2,>=1.6.3->tensorboard>=2.2.0->pytorch-lightning>=0.8.4->torchdyn==0.2.2.2.dev36+ge7428e6.d20210427) (4.7.2)\n",
      "Requirement already satisfied: pyasn1-modules>=0.2.1 in /Users/chris/anaconda3/lib/python3.8/site-packages (from google-auth<2,>=1.6.3->tensorboard>=2.2.0->pytorch-lightning>=0.8.4->torchdyn==0.2.2.2.dev36+ge7428e6.d20210427) (0.2.8)\n",
      "Requirement already satisfied: cachetools<5.0,>=2.0.0 in /Users/chris/anaconda3/lib/python3.8/site-packages (from google-auth<2,>=1.6.3->tensorboard>=2.2.0->pytorch-lightning>=0.8.4->torchdyn==0.2.2.2.dev36+ge7428e6.d20210427) (4.2.1)\n",
      "Requirement already satisfied: async-timeout<4.0,>=3.0 in /Users/chris/anaconda3/lib/python3.8/site-packages (from aiohttp; extra == \"http\"->fsspec[http]>=0.8.1->pytorch-lightning>=0.8.4->torchdyn==0.2.2.2.dev36+ge7428e6.d20210427) (3.0.1)\n",
      "Requirement already satisfied: multidict<7.0,>=4.5 in /Users/chris/anaconda3/lib/python3.8/site-packages (from aiohttp; extra == \"http\"->fsspec[http]>=0.8.1->pytorch-lightning>=0.8.4->torchdyn==0.2.2.2.dev36+ge7428e6.d20210427) (5.1.0)\n",
      "Requirement already satisfied: yarl<2.0,>=1.0 in /Users/chris/anaconda3/lib/python3.8/site-packages (from aiohttp; extra == \"http\"->fsspec[http]>=0.8.1->pytorch-lightning>=0.8.4->torchdyn==0.2.2.2.dev36+ge7428e6.d20210427) (1.6.3)\n",
      "Requirement already satisfied: attrs>=17.3.0 in /Users/chris/anaconda3/lib/python3.8/site-packages (from aiohttp; extra == \"http\"->fsspec[http]>=0.8.1->pytorch-lightning>=0.8.4->torchdyn==0.2.2.2.dev36+ge7428e6.d20210427) (20.3.0)\n",
      "Requirement already satisfied: oauthlib>=3.0.0 in /Users/chris/anaconda3/lib/python3.8/site-packages (from requests-oauthlib>=0.7.0->google-auth-oauthlib<0.5,>=0.4.1->tensorboard>=2.2.0->pytorch-lightning>=0.8.4->torchdyn==0.2.2.2.dev36+ge7428e6.d20210427) (3.1.0)\n",
      "Requirement already satisfied: pyasn1>=0.1.3 in /Users/chris/anaconda3/lib/python3.8/site-packages (from rsa<5,>=3.1.4; python_version >= \"3.6\"->google-auth<2,>=1.6.3->tensorboard>=2.2.0->pytorch-lightning>=0.8.4->torchdyn==0.2.2.2.dev36+ge7428e6.d20210427) (0.4.8)\n",
      "Installing collected packages: torchdyn\n",
      "  Attempting uninstall: torchdyn\n",
      "    Found existing installation: torchdyn 0.2.2.2.dev36+ge7428e6.d20210427\n",
      "    Uninstalling torchdyn-0.2.2.2.dev36+ge7428e6.d20210427:\n",
      "      Successfully uninstalled torchdyn-0.2.2.2.dev36+ge7428e6.d20210427\n",
      "  Running setup.py develop for torchdyn\n",
      "Successfully installed torchdyn\n",
      "Obtaining file:///Users/chris/Desktop/git_tmp/torchdiffeq\n",
      "Requirement already satisfied: torch>=1.3.0 in /Users/chris/anaconda3/lib/python3.8/site-packages (from torchdiffeq==0.2.1) (1.7.1)\n",
      "Requirement already satisfied: scipy>=1.4.0 in /Users/chris/anaconda3/lib/python3.8/site-packages (from torchdiffeq==0.2.1) (1.5.2)\n",
      "Requirement already satisfied: typing-extensions in /Users/chris/anaconda3/lib/python3.8/site-packages (from torch>=1.3.0->torchdiffeq==0.2.1) (3.7.4.3)\n",
      "Requirement already satisfied: numpy in /Users/chris/anaconda3/lib/python3.8/site-packages (from torch>=1.3.0->torchdiffeq==0.2.1) (1.19.5)\n",
      "Installing collected packages: torchdiffeq\n",
      "  Attempting uninstall: torchdiffeq\n",
      "    Found existing installation: torchdiffeq 0.2.1\n",
      "    Uninstalling torchdiffeq-0.2.1:\n",
      "      Successfully uninstalled torchdiffeq-0.2.1\n",
      "  Running setup.py develop for torchdiffeq\n",
      "Successfully installed torchdiffeq\n"
     ]
    }
   ],
   "source": [
    "!pip install -e ../../torchdyn/\n",
    "!pip install -e ../../git_tmp/torchdiffeq/"
   ]
  },
  {
   "cell_type": "code",
   "execution_count": 2,
   "metadata": {},
   "outputs": [],
   "source": [
    "import torch\n",
    "import torchdiffeq as node\n",
    "import scipy\n",
    "import matplotlib.pyplot as plt\n",
    "import numpy as np\n",
    "import matplotlib.pyplot as plt\n",
    "import torchdyn\n",
    "import torch.utils.data as data\n",
    "import torch.nn as nn\n",
    "import pytorch_lightning as pl\n",
    "#from torchdyn.models import *\n",
    "#from torchdyn import *\n",
    "import time\n",
    "import torchdyn\n",
    "\n",
    "#udot = f(u,t )"
   ]
  },
  {
   "cell_type": "markdown",
   "metadata": {},
   "source": [
    "We'll start with Beta-Decay\n",
    "\n",
    "$$\\dot{X}_0 (t) = - A \\cdot X_0 (t)$$\n",
    "$$\\dot{X}_1 (t) = - A \\cdot (1-X_0) (t)$$\n",
    "\n",
    "\n"
   ]
  },
  {
   "cell_type": "code",
   "execution_count": 3,
   "metadata": {},
   "outputs": [],
   "source": [
    "class odefunc(torch.nn.Module):\n",
    "    def __init__(self, sys):\n",
    "        super().__init__()\n",
    "        self.sys = sys\n",
    "    def forward(self, x):\n",
    "        return self.sys(x)\n",
    "    \n",
    "#Beta Decay (system of equations to learn!)\n",
    "A = 1 #for now\n",
    "def sys(x):\n",
    "    dx1dt =  -A * x[:,0]\n",
    "    dx2dt =  A * (1- x[:,0])\n",
    "    return torch.cat([dx1dt[:,None], dx2dt[:,None]], 1)\n",
    "\n",
    "\n",
    "\n",
    "def test_model(f):\n",
    "    '''Trains a model with the given neural network architecture.\n",
    "    It will then return the error between the exact vector field solved numerically\n",
    "    and the trained vector field solved numerically. \n",
    "    It will also return the time it took to evalaute the two.'''\n",
    "    \n",
    "\n",
    "\n",
    "    class Learner(pl.LightningModule):\n",
    "        def __init__(self, model:nn.Module):\n",
    "            super().__init__()\n",
    "            self.model = model\n",
    "\n",
    "        def forward(self, x):\n",
    "            return self.model(x)\n",
    "\n",
    "        def loss(self, y, y_hat):\n",
    "            return ((y-y_hat)**2).sum(1).mean()\n",
    "\n",
    "\n",
    "        def training_step(self, batch, batch_idx):\n",
    "            x = torch.randn(2048,2)\n",
    "            y = vf(x)\n",
    "            y_hat = self.model.defunc(0,x)\n",
    "            loss = self.loss(y_hat, y)\n",
    "            logs = {'train_loss': loss}\n",
    "            return {'loss': loss, 'log': logs}\n",
    "\n",
    "\n",
    "        def configure_optimizers(self):\n",
    "            return torch.optim.Adam(self.model.parameters(), lr=0.005)\n",
    "\n",
    "        def train_dataloader(self):\n",
    "            return trainloader\n",
    "\n",
    "\n",
    "    system = torchdyn.NeuralDE(odefunc(sys), sensitivity='adjoint', solver = \"scipy_Radau\")\n",
    "\n",
    "    x0_0 = torch.abs(torch.rand(1000,1)) #0,1\n",
    "    x1_0 = 1-x0_0  #other species must add to get 1.\n",
    "    x0 = torch.cat((x0_0, x1_0), 1)\n",
    "\n",
    "\n",
    "    t_span = torch.linspace(0,10,100)\n",
    "    #Now lets's create a data set to train on.\n",
    "\n",
    "\n",
    "    vf = odefunc(sys) #creates a function \n",
    "\n",
    "    X = 4*torch.rand(2048,2) #grid of x data points \n",
    "    y = vf(X) #evaluated on our field y.\n",
    "\n",
    "    train = data.TensorDataset(X, y)\n",
    "    trainloader = data.DataLoader(train, batch_size=len(X), shuffle=False)\n",
    "\n",
    "\n",
    "\n",
    "    model = torchdyn.NeuralDE(f, order=1,sensitivity='adjoint', solver='scipy_Radau')\n",
    "    num_pam = pytorch_total_params = sum(p.numel() for p in model.parameters())\n",
    "\n",
    "    learn = Learner(model)\n",
    "    trainer = pl.Trainer(min_epochs=200, max_epochs=300)\n",
    "    trainer.fit(learn)\n",
    "\n",
    "    #testing\n",
    "    x0_0 = torch.abs(torch.rand(1000,1)) #0,1\n",
    "    x1_0 = 1-x0_0  #other species must add to get 1.\n",
    "    x0 = torch.cat((x0_0, x1_0), 1)\n",
    "\n",
    "    t_span = torch.linspace(0, 20, 100) #this is twice as long as what waas trained on\n",
    "\n",
    "\n",
    "\n",
    "    tic = time.perf_counter()\n",
    "    #vector field evaulated exactly numerically solved\n",
    "    #ex_traj = model.trajectory(x0, t_span)\n",
    "    ex_traj, ex_info = model.trajectory(x0, t_span, info=True)\n",
    "\n",
    "    toc = time.perf_counter()\n",
    "    exact_field_time = toc - tic\n",
    "\n",
    "\n",
    "    tic = time.perf_counter()\n",
    "    \n",
    "    #trained vector field to be numerically solved\n",
    "    #nn_traj = system.trajectory(x0, t_span) \n",
    "    nn_traj, nn_info = system.trajectory(x0, t_span, info=True)\n",
    "    toc = time.perf_counter()\n",
    "    nn_field_time = toc - tic\n",
    "\n",
    "\n",
    "    #compute a least squared like error. \n",
    "    mseloss = nn.MSELoss() \n",
    "    err = 0\n",
    "    for i in range(ex_traj.size()[1]): #loop over trajectories\n",
    "        lossx = mseloss(ex_traj[:, i, 0], nn_traj[:, i, 0]) #MSE of x points in each trajectory\n",
    "        lossy = mseloss(ex_traj[:, i, 1], nn_traj[:, i, 1]) \n",
    "\n",
    "        err +=  lossx**2 + lossy**2\n",
    "    err = torch.sqrt(err)      \n",
    "    \n",
    "    \n",
    "    '''\n",
    "    err -> MSE (MSE(actualx, computedx), MSE(actualy), computedy))\n",
    "    exact_field_time -> time to integrate exact rhs\n",
    "    nn_field_time -> time to integrate parametrized rhs\n",
    "    num_pam -> number of trainable parameters in NN\n",
    "    ex_info -> scipy info object for exact integration\n",
    "    nn_info -> scipy info object for nn integration\n",
    "    '''\n",
    "    \n",
    "    return err, exact_field_time, ex_info, nn_field_time, nn_info, num_pam"
   ]
  },
  {
   "cell_type": "code",
   "execution_count": null,
   "metadata": {},
   "outputs": [],
   "source": []
  },
  {
   "cell_type": "code",
   "execution_count": 4,
   "metadata": {},
   "outputs": [],
   "source": [
    "nn1 = nn.Sequential(\n",
    "                  nn.Linear(2,16),\n",
    "                  nn.Tanh(),\n",
    "                  nn.Linear(16,16),\n",
    "                  nn.Tanh(),\n",
    "                  nn.Linear(16, 2)\n",
    "                )\n",
    "\n",
    "nn2 = nn.Sequential(\n",
    "                  nn.Linear(2,16),\n",
    "                  nn.Tanh(),\n",
    "                  nn.Linear(16,16),\n",
    "                  nn.Tanh(),\n",
    "                  nn.Linear(16,16),\n",
    "                  nn.Tanh(),\n",
    "                  nn.Linear(16, 2)\n",
    "                )\n",
    "\n",
    "nn3 = nn.Sequential(\n",
    "                  nn.Linear(2,8),\n",
    "                  nn.Tanh(),\n",
    "                  nn.Linear(8,8),\n",
    "                  nn.Tanh(),\n",
    "                  nn.Linear(8,8),\n",
    "                  nn.Tanh(),\n",
    "                  nn.Linear(8, 2)\n",
    "                )\n",
    "\n",
    "nn4 = nn.Sequential(\n",
    "                  nn.Linear(2,8),\n",
    "                  nn.Tanh(),\n",
    "                  nn.Linear(8,8),\n",
    "                  nn.Tanh(),\n",
    "                  nn.Linear(8, 2)\n",
    "                )\n",
    "'''\n",
    "nn5 = nn.Sequential(\n",
    "          nn.Conv1d(2,8,4),\n",
    "          nn.ReLU(),\n",
    "          nn.Conv1d(8,16, 12),\n",
    "          nn.ReLU(),\n",
    "          nn.Linear(16, 2)\n",
    "        )\n",
    "'''\n",
    "networks = [nn4, nn3, nn1, nn2]"
   ]
  },
  {
   "cell_type": "code",
   "execution_count": 5,
   "metadata": {
    "scrolled": false
   },
   "outputs": [
    {
     "name": "stderr",
     "output_type": "stream",
     "text": [
      "/Users/chris/Desktop/torchdyn/torchdyn/models/neuralde.py:113: UserWarning: CUDA is not available with SciPy solvers.\n",
      "  warnings.warn(UserWarning(\"CUDA is not available with SciPy solvers.\"))\n",
      "GPU available: False, used: False\n",
      "TPU available: None, using: 0 TPU cores\n",
      "\n",
      "  | Name  | Type      | Params\n",
      "------------------------------------\n",
      "0 | model | NeuralODE | 114   \n",
      "------------------------------------\n",
      "114       Trainable params\n",
      "0         Non-trainable params\n",
      "114       Total params\n",
      "0.000     Total estimated model params size (MB)\n",
      "/Users/chris/anaconda3/lib/python3.8/site-packages/pytorch_lightning/utilities/distributed.py:50: UserWarning: The dataloader, train dataloader, does not have many workers which may be a bottleneck. Consider increasing the value of the `num_workers` argument` (try 4 which is the number of cpus on this machine) in the `DataLoader` init to improve performance.\n",
      "  warnings.warn(*args, **kwargs)\n"
     ]
    },
    {
     "data": {
      "application/vnd.jupyter.widget-view+json": {
       "model_id": "8e45788bc4174e5c80a8b33472b14aec",
       "version_major": 2,
       "version_minor": 0
      },
      "text/plain": [
       "HBox(children=(HTML(value='Training'), FloatProgress(value=1.0, bar_style='info', layout=Layout(flex='2'), max…"
      ]
     },
     "metadata": {},
     "output_type": "display_data"
    },
    {
     "name": "stderr",
     "output_type": "stream",
     "text": [
      "/Users/chris/anaconda3/lib/python3.8/site-packages/pytorch_lightning/utilities/distributed.py:50: UserWarning: The {log:dict keyword} was deprecated in 0.9.1 and will be removed in 1.0.0\n",
      "Please use self.log(...) inside the lightningModule instead.\n",
      "# log on a step or aggregate epoch metric to the logger and/or progress bar (inside LightningModule)\n",
      "self.log('train_loss', loss, on_step=True, on_epoch=True, prog_bar=True)\n",
      "  warnings.warn(*args, **kwargs)\n"
     ]
    },
    {
     "name": "stdout",
     "output_type": "stream",
     "text": [
      "\n"
     ]
    },
    {
     "name": "stderr",
     "output_type": "stream",
     "text": [
      "/Users/chris/Desktop/torchdyn/torchdyn/models/neuralde.py:113: UserWarning: CUDA is not available with SciPy solvers.\n",
      "  warnings.warn(UserWarning(\"CUDA is not available with SciPy solvers.\"))\n",
      "GPU available: False, used: False\n",
      "TPU available: None, using: 0 TPU cores\n",
      "\n",
      "  | Name  | Type      | Params\n",
      "------------------------------------\n",
      "0 | model | NeuralODE | 186   \n",
      "------------------------------------\n",
      "186       Trainable params\n",
      "0         Non-trainable params\n",
      "186       Total params\n",
      "0.001     Total estimated model params size (MB)\n"
     ]
    },
    {
     "name": "stdout",
     "output_type": "stream",
     "text": [
      "---Neural Network of size:  114\n",
      "Exact: \n",
      " - RHS Evaluations:  399\n",
      " - Jacobian Evaluations:  21\n",
      " - LU Decompositions:  82\n",
      "NN: \n",
      " - RHS Evaluations:  204\n",
      " - Jacobian Evaluations:  6\n",
      " - LU Decompositions:  48\n"
     ]
    },
    {
     "data": {
      "application/vnd.jupyter.widget-view+json": {
       "model_id": "239a38fb205d4d4db8d5dcac8ab12f74",
       "version_major": 2,
       "version_minor": 0
      },
      "text/plain": [
       "HBox(children=(HTML(value='Training'), FloatProgress(value=1.0, bar_style='info', layout=Layout(flex='2'), max…"
      ]
     },
     "metadata": {},
     "output_type": "display_data"
    },
    {
     "name": "stdout",
     "output_type": "stream",
     "text": [
      "\n"
     ]
    },
    {
     "name": "stderr",
     "output_type": "stream",
     "text": [
      "GPU available: False, used: False\n",
      "TPU available: None, using: 0 TPU cores\n",
      "\n",
      "  | Name  | Type      | Params\n",
      "------------------------------------\n",
      "0 | model | NeuralODE | 354   \n",
      "------------------------------------\n",
      "354       Trainable params\n",
      "0         Non-trainable params\n",
      "354       Total params\n",
      "0.001     Total estimated model params size (MB)\n"
     ]
    },
    {
     "name": "stdout",
     "output_type": "stream",
     "text": [
      "---Neural Network of size:  186\n",
      "Exact: \n",
      " - RHS Evaluations:  466\n",
      " - Jacobian Evaluations:  23\n",
      " - LU Decompositions:  106\n",
      "NN: \n",
      " - RHS Evaluations:  166\n",
      " - Jacobian Evaluations:  6\n",
      " - LU Decompositions:  38\n"
     ]
    },
    {
     "data": {
      "application/vnd.jupyter.widget-view+json": {
       "model_id": "eb84c675d52e4dbb90514016a460c19f",
       "version_major": 2,
       "version_minor": 0
      },
      "text/plain": [
       "HBox(children=(HTML(value='Training'), FloatProgress(value=1.0, bar_style='info', layout=Layout(flex='2'), max…"
      ]
     },
     "metadata": {},
     "output_type": "display_data"
    },
    {
     "name": "stdout",
     "output_type": "stream",
     "text": [
      "\n"
     ]
    },
    {
     "name": "stderr",
     "output_type": "stream",
     "text": [
      "GPU available: False, used: False\n",
      "TPU available: None, using: 0 TPU cores\n",
      "\n",
      "  | Name  | Type      | Params\n",
      "------------------------------------\n",
      "0 | model | NeuralODE | 626   \n",
      "------------------------------------\n",
      "626       Trainable params\n",
      "0         Non-trainable params\n",
      "626       Total params\n",
      "0.003     Total estimated model params size (MB)\n"
     ]
    },
    {
     "name": "stdout",
     "output_type": "stream",
     "text": [
      "---Neural Network of size:  354\n",
      "Exact: \n",
      " - RHS Evaluations:  527\n",
      " - Jacobian Evaluations:  27\n",
      " - LU Decompositions:  126\n",
      "NN: \n",
      " - RHS Evaluations:  125\n",
      " - Jacobian Evaluations:  5\n",
      " - LU Decompositions:  26\n"
     ]
    },
    {
     "data": {
      "application/vnd.jupyter.widget-view+json": {
       "model_id": "014e034942454d7e93d33531355205db",
       "version_major": 2,
       "version_minor": 0
      },
      "text/plain": [
       "HBox(children=(HTML(value='Training'), FloatProgress(value=1.0, bar_style='info', layout=Layout(flex='2'), max…"
      ]
     },
     "metadata": {},
     "output_type": "display_data"
    },
    {
     "name": "stdout",
     "output_type": "stream",
     "text": [
      "\n",
      "---Neural Network of size:  626\n",
      "Exact: \n",
      " - RHS Evaluations:  429\n",
      " - Jacobian Evaluations:  21\n",
      " - LU Decompositions:  106\n",
      "NN: \n",
      " - RHS Evaluations:  169\n",
      " - Jacobian Evaluations:  7\n",
      " - LU Decompositions:  40\n"
     ]
    },
    {
     "data": {
      "image/png": "[encoded data removed]",
      "text/plain": [
       "<Figure size 864x216 with 2 Axes>"
      ]
     },
     "metadata": {
      "needs_background": "light"
     },
     "output_type": "display_data"
    }
   ],
   "source": [
    "i = 1\n",
    "fig, (ax1,ax2) = plt.subplots(1,2, figsize=(12,3))\n",
    "\n",
    "for net in networks:\n",
    "    err, te, einfo, tn, ninfo, numpam = test_model(net)\n",
    "    \n",
    "    \n",
    "    err = err.detach().numpy()\n",
    "\n",
    "    ax1.scatter((tn-te)/te * 100, err, label = \"NN #:\" + str(i) + \"With \" + str(numpam) + \" Paramters\")\n",
    "    \n",
    "    print(\"---Neural Network of size: \", numpam)\n",
    "    print(\"Exact: \")\n",
    "    print(\" - RHS Evaluations: \", einfo.nfev)\n",
    "    print(\" - Jacobian Evaluations: \", einfo.njev)\n",
    "    print(\" - LU Decompositions: \", einfo.nlu)\n",
    "    print(\"NN: \")\n",
    "    print(\" - RHS Evaluations: \", ninfo.nfev)\n",
    "    print(\" - Jacobian Evaluations: \", ninfo.njev)\n",
    "    print(\" - LU Decompositions: \", ninfo.nlu)\n",
    "\n",
    "    ax2.scatter(numpam, 100*(ninfo.nfev-einfo.nfev)/einfo.nfev, c ='coral', label='% increase in RHS Evlautions')\n",
    "    ax2.scatter(numpam, 100*(ninfo.njev-einfo.njev)/einfo.njev, c='lightblue', label='% increase in Jacobian Evlautions')\n",
    "    ax2.scatter(numpam, 100*(ninfo.nlu-einfo.nlu)/einfo.nlu, c='green', label='% increase in LU Evlautions')\n",
    "    if i == 1:\n",
    "        ax2.legend(bbox_to_anchor=(1.05, 1))\n",
    "    i += 1\n",
    "ax1.legend()\n",
    "ax1.set_xlabel('Percent time increase from exact vector field -> Parametrized field')\n",
    "ax1.set_ylabel('Something like MSE error')\n",
    "ax2.set_xlabel(\"Neural Network Size\")\n",
    "ax2.set_ylabel(\"Percent Increase in various work\");"
   ]
  }
 ],
 "metadata": {
  "kernelspec": {
   "display_name": "Python 3",
   "language": "python",
   "name": "python3"
  },
  "language_info": {
   "codemirror_mode": {
    "name": "ipython",
    "version": 3
   },
   "file_extension": ".py",
   "mimetype": "text/x-python",
   "name": "python",
   "nbconvert_exporter": "python",
   "pygments_lexer": "ipython3",
   "version": "3.8.5"
  }
 },
 "nbformat": 4,
 "nbformat_minor": 4
}
