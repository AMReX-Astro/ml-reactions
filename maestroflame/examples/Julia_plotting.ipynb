{
 "cells": [
  {
   "cell_type": "markdown",
   "metadata": {},
   "source": [
    "This notebook attempts to speed up the prediction_vs_solution plot with julia.\n",
    "There are 3 julia methods.\n",
    "\n",
    "1. Is loading julia from a system image and calling julia from python. You will need to run the `tools/make_sysimage.jl` file. This will take a while to run. After, try running the `tools/test_sysimage.py` file. This will make sure everything is working properly for maestroflame to run julia. \n",
    "\n",
    "2. Takes a more naive approach, outputting files to disk and then using `os.system()` commands to call a julia script `maestroflame/pred_v_sol.jl`. This is slow because of the start up time. \n",
    "\n",
    "3. A third incomplete method that I had trouble getting to work was loading julia fron a virtual enviroment. Within the `pred_v_sol.jl` file you can see the load env commands. This might get around the julia start up time?\n",
    "\n",
    "## Results:"
   ]
  },
  {
   "cell_type": "code",
   "execution_count": 1,
   "metadata": {},
   "outputs": [
    {
     "name": "stdout",
     "output_type": "stream",
     "text": [
      "Processing /Users/chris/Desktop/temp/ml-reactions/maestroflame\n",
      "Requirement already satisfied: matplotlib==3.4.1 in /Users/chris/anaconda3/lib/python3.8/site-packages (from MaestroFlame==0.1.0) (3.4.1)\n",
      "Requirement already satisfied: optuna==2.8.0 in /Users/chris/anaconda3/lib/python3.8/site-packages (from MaestroFlame==0.1.0) (2.8.0)\n",
      "Requirement already satisfied: pandas==1.1.3 in /Users/chris/anaconda3/lib/python3.8/site-packages (from MaestroFlame==0.1.0) (1.1.3)\n",
      "Requirement already satisfied: numpy==1.21.1 in /Users/chris/anaconda3/lib/python3.8/site-packages (from MaestroFlame==0.1.0) (1.21.1)\n",
      "Requirement already satisfied: yt==4.0.1 in /Users/chris/anaconda3/lib/python3.8/site-packages (from MaestroFlame==0.1.0) (4.0.1)\n",
      "Requirement already satisfied: torch==1.9.0 in /Users/chris/anaconda3/lib/python3.8/site-packages (from MaestroFlame==0.1.0) (1.9.0)\n",
      "Requirement already satisfied: ipython==7.27.0 in /Users/chris/anaconda3/lib/python3.8/site-packages (from MaestroFlame==0.1.0) (7.27.0)\n",
      "Requirement already satisfied: pillow>=6.2.0 in /Users/chris/anaconda3/lib/python3.8/site-packages (from matplotlib==3.4.1->MaestroFlame==0.1.0) (8.3.1)\n",
      "Requirement already satisfied: pyparsing>=2.2.1 in /Users/chris/anaconda3/lib/python3.8/site-packages (from matplotlib==3.4.1->MaestroFlame==0.1.0) (2.4.7)\n",
      "Requirement already satisfied: kiwisolver>=1.0.1 in /Users/chris/anaconda3/lib/python3.8/site-packages (from matplotlib==3.4.1->MaestroFlame==0.1.0) (1.3.1)\n",
      "Requirement already satisfied: cycler>=0.10 in /Users/chris/anaconda3/lib/python3.8/site-packages (from matplotlib==3.4.1->MaestroFlame==0.1.0) (0.10.0)\n",
      "Requirement already satisfied: python-dateutil>=2.7 in /Users/chris/anaconda3/lib/python3.8/site-packages (from matplotlib==3.4.1->MaestroFlame==0.1.0) (2.8.2)\n",
      "Requirement already satisfied: tqdm in /Users/chris/anaconda3/lib/python3.8/site-packages (from optuna==2.8.0->MaestroFlame==0.1.0) (4.50.2)\n",
      "Requirement already satisfied: sqlalchemy>=1.1.0 in /Users/chris/anaconda3/lib/python3.8/site-packages (from optuna==2.8.0->MaestroFlame==0.1.0) (1.3.20)\n",
      "Requirement already satisfied: cmaes>=0.8.2 in /Users/chris/anaconda3/lib/python3.8/site-packages (from optuna==2.8.0->MaestroFlame==0.1.0) (0.8.2)\n",
      "Requirement already satisfied: packaging>=20.0 in /Users/chris/anaconda3/lib/python3.8/site-packages (from optuna==2.8.0->MaestroFlame==0.1.0) (21.0)\n",
      "Requirement already satisfied: cliff in /Users/chris/anaconda3/lib/python3.8/site-packages (from optuna==2.8.0->MaestroFlame==0.1.0) (3.8.0)\n",
      "Requirement already satisfied: alembic in /Users/chris/anaconda3/lib/python3.8/site-packages (from optuna==2.8.0->MaestroFlame==0.1.0) (1.6.5)\n",
      "Requirement already satisfied: scipy!=1.4.0 in /Users/chris/anaconda3/lib/python3.8/site-packages (from optuna==2.8.0->MaestroFlame==0.1.0) (1.5.2)\n",
      "Requirement already satisfied: colorlog in /Users/chris/anaconda3/lib/python3.8/site-packages (from optuna==2.8.0->MaestroFlame==0.1.0) (5.0.1)\n",
      "Requirement already satisfied: pytz>=2017.2 in /Users/chris/anaconda3/lib/python3.8/site-packages (from pandas==1.1.3->MaestroFlame==0.1.0) (2019.3)\n",
      "Requirement already satisfied: setuptools>=19.6 in /Users/chris/anaconda3/lib/python3.8/site-packages (from yt==4.0.1->MaestroFlame==0.1.0) (57.4.0)\n",
      "Requirement already satisfied: toml>=0.10.2 in /Users/chris/anaconda3/lib/python3.8/site-packages (from yt==4.0.1->MaestroFlame==0.1.0) (0.10.2)\n",
      "Requirement already satisfied: pyyaml>=4.2b1 in /Users/chris/anaconda3/lib/python3.8/site-packages (from yt==4.0.1->MaestroFlame==0.1.0) (5.3.1)\n",
      "Requirement already satisfied: more-itertools>=8.4 in /Users/chris/anaconda3/lib/python3.8/site-packages (from yt==4.0.1->MaestroFlame==0.1.0) (8.6.0)\n",
      "Requirement already satisfied: sympy>=1.2 in /Users/chris/anaconda3/lib/python3.8/site-packages (from yt==4.0.1->MaestroFlame==0.1.0) (1.6.2)\n",
      "Requirement already satisfied: unyt>=2.8.0 in /Users/chris/anaconda3/lib/python3.8/site-packages (from yt==4.0.1->MaestroFlame==0.1.0) (2.8.0)\n",
      "Requirement already satisfied: typing-extensions in /Users/chris/anaconda3/lib/python3.8/site-packages (from torch==1.9.0->MaestroFlame==0.1.0) (3.7.4.3)\n",
      "Requirement already satisfied: decorator in /Users/chris/anaconda3/lib/python3.8/site-packages (from ipython==7.27.0->MaestroFlame==0.1.0) (5.0.9)\n",
      "Requirement already satisfied: jedi>=0.16 in /Users/chris/anaconda3/lib/python3.8/site-packages (from ipython==7.27.0->MaestroFlame==0.1.0) (0.18.0)\n",
      "Requirement already satisfied: traitlets>=4.2 in /Users/chris/anaconda3/lib/python3.8/site-packages (from ipython==7.27.0->MaestroFlame==0.1.0) (5.0.5)\n",
      "Requirement already satisfied: backcall in /Users/chris/anaconda3/lib/python3.8/site-packages (from ipython==7.27.0->MaestroFlame==0.1.0) (0.2.0)\n",
      "Requirement already satisfied: pexpect>4.3; sys_platform != \"win32\" in /Users/chris/anaconda3/lib/python3.8/site-packages (from ipython==7.27.0->MaestroFlame==0.1.0) (4.8.0)\n",
      "Requirement already satisfied: pickleshare in /Users/chris/anaconda3/lib/python3.8/site-packages (from ipython==7.27.0->MaestroFlame==0.1.0) (0.7.5)\n",
      "Requirement already satisfied: matplotlib-inline in /Users/chris/anaconda3/lib/python3.8/site-packages (from ipython==7.27.0->MaestroFlame==0.1.0) (0.1.3)\n",
      "Requirement already satisfied: pygments in /Users/chris/anaconda3/lib/python3.8/site-packages (from ipython==7.27.0->MaestroFlame==0.1.0) (2.7.2)\n",
      "Requirement already satisfied: prompt-toolkit!=3.0.0,!=3.0.1,<3.1.0,>=2.0.0 in /Users/chris/anaconda3/lib/python3.8/site-packages (from ipython==7.27.0->MaestroFlame==0.1.0) (3.0.19)\n",
      "Requirement already satisfied: appnope; sys_platform == \"darwin\" in /Users/chris/anaconda3/lib/python3.8/site-packages (from ipython==7.27.0->MaestroFlame==0.1.0) (0.1.0)\n",
      "Requirement already satisfied: six in /Users/chris/anaconda3/lib/python3.8/site-packages (from cycler>=0.10->matplotlib==3.4.1->MaestroFlame==0.1.0) (1.16.0)\n",
      "Requirement already satisfied: PrettyTable>=0.7.2 in /Users/chris/anaconda3/lib/python3.8/site-packages (from cliff->optuna==2.8.0->MaestroFlame==0.1.0) (2.1.0)\n",
      "Requirement already satisfied: pbr!=2.1.0,>=2.0.0 in /Users/chris/anaconda3/lib/python3.8/site-packages (from cliff->optuna==2.8.0->MaestroFlame==0.1.0) (5.6.0)\n",
      "Requirement already satisfied: cmd2>=1.0.0 in /Users/chris/anaconda3/lib/python3.8/site-packages (from cliff->optuna==2.8.0->MaestroFlame==0.1.0) (2.1.1)\n",
      "Requirement already satisfied: stevedore>=2.0.1 in /Users/chris/anaconda3/lib/python3.8/site-packages (from cliff->optuna==2.8.0->MaestroFlame==0.1.0) (3.3.0)\n",
      "Requirement already satisfied: Mako in /Users/chris/anaconda3/lib/python3.8/site-packages (from alembic->optuna==2.8.0->MaestroFlame==0.1.0) (1.1.4)\n",
      "Requirement already satisfied: python-editor>=0.3 in /Users/chris/anaconda3/lib/python3.8/site-packages (from alembic->optuna==2.8.0->MaestroFlame==0.1.0) (1.0.4)\n",
      "Requirement already satisfied: mpmath>=0.19 in /Users/chris/anaconda3/lib/python3.8/site-packages (from sympy>=1.2->yt==4.0.1->MaestroFlame==0.1.0) (1.1.0)\n",
      "Requirement already satisfied: parso<0.9.0,>=0.8.0 in /Users/chris/anaconda3/lib/python3.8/site-packages (from jedi>=0.16->ipython==7.27.0->MaestroFlame==0.1.0) (0.8.2)\n",
      "Requirement already satisfied: ipython-genutils in /Users/chris/anaconda3/lib/python3.8/site-packages (from traitlets>=4.2->ipython==7.27.0->MaestroFlame==0.1.0) (0.2.0)\n",
      "Requirement already satisfied: ptyprocess>=0.5 in /Users/chris/anaconda3/lib/python3.8/site-packages (from pexpect>4.3; sys_platform != \"win32\"->ipython==7.27.0->MaestroFlame==0.1.0) (0.6.0)\n",
      "Requirement already satisfied: wcwidth in /Users/chris/anaconda3/lib/python3.8/site-packages (from prompt-toolkit!=3.0.0,!=3.0.1,<3.1.0,>=2.0.0->ipython==7.27.0->MaestroFlame==0.1.0) (0.2.5)\n",
      "Requirement already satisfied: pyperclip>=1.6 in /Users/chris/anaconda3/lib/python3.8/site-packages (from cmd2>=1.0.0->cliff->optuna==2.8.0->MaestroFlame==0.1.0) (1.8.2)\n",
      "Requirement already satisfied: attrs>=16.3.0 in /Users/chris/anaconda3/lib/python3.8/site-packages (from cmd2>=1.0.0->cliff->optuna==2.8.0->MaestroFlame==0.1.0) (20.3.0)\n",
      "Requirement already satisfied: colorama>=0.3.7 in /Users/chris/anaconda3/lib/python3.8/site-packages (from cmd2>=1.0.0->cliff->optuna==2.8.0->MaestroFlame==0.1.0) (0.4.4)\n",
      "Requirement already satisfied: MarkupSafe>=0.9.2 in /Users/chris/anaconda3/lib/python3.8/site-packages (from Mako->alembic->optuna==2.8.0->MaestroFlame==0.1.0) (1.1.1)\n",
      "Building wheels for collected packages: MaestroFlame\n"
     ]
    },
    {
     "name": "stdout",
     "output_type": "stream",
     "text": [
      "  Building wheel for MaestroFlame (setup.py) ... \u001b[?25ldone\n",
      "\u001b[?25h  Created wheel for MaestroFlame: filename=MaestroFlame-0.1.0-py3-none-any.whl size=28531 sha256=0a411bbb250fe1e3761e58587637eedb752d622392253476ddbf476399689040\n",
      "  Stored in directory: /private/var/folders/j8/2s1d11vs6xx9g1f18gn0y4rm0000gn/T/pip-ephem-wheel-cache-0r7mzeag/wheels/bc/1a/ae/3d3ed493ea0c7ad32bf5ff3d67158953fe0de6520f90944766\n",
      "Successfully built MaestroFlame\n",
      "Installing collected packages: MaestroFlame\n",
      "  Attempting uninstall: MaestroFlame\n",
      "    Found existing installation: MaestroFlame 0.1.0\n",
      "    Uninstalling MaestroFlame-0.1.0:\n",
      "      Successfully uninstalled MaestroFlame-0.1.0\n",
      "Successfully installed MaestroFlame-0.1.0\n"
     ]
    }
   ],
   "source": [
    "!pip install ../"
   ]
  },
  {
   "cell_type": "code",
   "execution_count": 2,
   "metadata": {},
   "outputs": [],
   "source": [
    "import maestroflame"
   ]
  },
  {
   "cell_type": "code",
   "execution_count": 3,
   "metadata": {},
   "outputs": [],
   "source": [
    "#this is the path to your data files\n",
    "data_path = '../../data/data1/flame/'\n",
    "\n",
    "#These is the input/output prefix of your datafile names.\n",
    "input_prefix = 'react_inputs_*'\n",
    "output_prefix = 'react_outputs_*'\n",
    "\n",
    "#Plotfile prefixes, used for visualization purposes.\n",
    "plotfile_prefix = 'flame_*'\n",
    "\n",
    "#By default, this package will save your model, logs of the training and testing data during training,\n",
    "#and plots to a directory. Here you specify that directory.\n",
    "output_dir = '/Users/chris/Desktop/temp/ml-reactions/maestroflame/examples/testing123/'\n",
    "\n",
    "#The log file. Everything that is printed during training also goes into this file in case something\n",
    "#gets interrupted.\n",
    "log_file = output_dir + \"log.txt\""
   ]
  },
  {
   "cell_type": "code",
   "execution_count": 4,
   "metadata": {},
   "outputs": [],
   "source": [
    "#We first remove the directory we just generated. If you don't do this you'll get an error. This is to protect\n",
    "#this package from overwriting your data in case one forgets to change the output_dir when training a new model\n",
    "\n",
    "!rm -r testing123/"
   ]
  },
  {
   "cell_type": "code",
   "execution_count": 5,
   "metadata": {},
   "outputs": [
    {
     "name": "stdout",
     "output_type": "stream",
     "text": [
      "Model starting on : 12/16/2021 14:03:57\n",
      "input_prefix react_inputs_*\n",
      "output_prefix react_outputs_*\n",
      "output_dir /Users/chris/Desktop/temp/ml-reactions/maestroflame/examples/testing123/\n",
      "DEBUG_MODE True\n",
      "DO_PLOTTING True\n",
      "DO_HYPER_OPTIMIZATION False\n",
      "Loading Input Files...\n",
      "Loading Output Files...\n",
      "Loaded data successfully!\n"
     ]
    }
   ],
   "source": [
    "from maestroflame.train import NuclearReactionML\n",
    "nrml = NuclearReactionML(data_path, input_prefix, output_prefix, plotfile_prefix,\n",
    "                output_dir, log_file, DEBUG_MODE=True, DO_PLOTTING=True,\n",
    "                SAVE_MODEL=True, DO_HYPER_OPTIMIZATION=False)"
   ]
  },
  {
   "cell_type": "code",
   "execution_count": 6,
   "metadata": {},
   "outputs": [
    {
     "name": "stdout",
     "output_type": "stream",
     "text": [
      "Cost at epoch 0 is 32.22436998435723\n",
      "Saving...\n"
     ]
    }
   ],
   "source": [
    "#the package provides preset up loss functions and networks to use\n",
    "from maestroflame.losses import log_loss\n",
    "from maestroflame.networks import Net\n",
    "import torch.optim as optim\n",
    "import torch\n",
    "\n",
    "device = torch.device(\"cuda\" if torch.cuda.is_available() else \"cpu\")\n",
    "\n",
    "num_epochs = 1\n",
    "model = Net(16, 16, 16, 16, 14)\n",
    "\n",
    "# get model to cuda if possible\n",
    "model.to(device=device)\n",
    "optimizer = optim.Adam(model.parameters(), lr=1e-5)\n",
    "\n",
    "nrml.train(model, optimizer, num_epochs, log_loss, save_every_N=10)"
   ]
  },
  {
   "cell_type": "code",
   "execution_count": 7,
   "metadata": {},
   "outputs": [
    {
     "name": "stdout",
     "output_type": "stream",
     "text": [
      "--- Internal Timing Julia\n",
      "8.286669969558716 seconds to start julia \n"
     ]
    },
    {
     "name": "stderr",
     "output_type": "stream",
     "text": [
      "/Users/chris/anaconda3/lib/python3.8/site-packages/maestroflame/plotting.py:115: RuntimeWarning: invalid value encountered in log10\n",
      "  pred_plot = np.log10(pred_plot)\n"
     ]
    },
    {
     "name": "stdout",
     "output_type": "stream",
     "text": [
      "29.997073888778687 seconds to do preprocessing \n",
      "10.120919942855835 seconds to do plot \n",
      "48.40560579299927 seconds total for first julia plotting method \n",
      "0.33952999114990234 seconds to save data to file \n",
      "46.47067403793335 seconds to run julia pred_v_sol.jl \n",
      "46.81110095977783 seconds total to run julia method 2 \n",
      "6.319821119308472 seconds total for python \n"
     ]
    }
   ],
   "source": [
    "from maestroflame.plotting import plotting_standard\n",
    "\n",
    "import time\n",
    "\n",
    "plot_class = plotting_standard(nrml.model, nrml.fields, nrml.test_loader, nrml.cost_per_epoc, nrml.component_losses_test,\n",
    "                        nrml.component_losses_train, nrml.cost_per_epoc_test, nrml.output_dir)\n",
    "\n",
    "plot_class.do_prediction_vs_solution_plot(use_julia=True)\n",
    "\n",
    "start_time = time.time()\n",
    "plot_class.do_prediction_vs_solution_plot(use_julia=False)\n",
    "print(\"%s seconds total for python \" % (time.time() - start_time))"
   ]
  },
  {
   "cell_type": "code",
   "execution_count": null,
   "metadata": {},
   "outputs": [],
   "source": []
  }
 ],
 "metadata": {
  "kernelspec": {
   "display_name": "Python 3",
   "language": "python",
   "name": "python3"
  },
  "language_info": {
   "codemirror_mode": {
    "name": "ipython",
    "version": 3
   },
   "file_extension": ".py",
   "mimetype": "text/x-python",
   "name": "python",
   "nbconvert_exporter": "python",
   "pygments_lexer": "ipython3",
   "version": "3.8.5"
  }
 },
 "nbformat": 4,
 "nbformat_minor": 4
}
