{
 "cells": [
  {
   "cell_type": "code",
   "execution_count": null,
   "id": "golden-headquarters",
   "metadata": {},
   "outputs": [],
   "source": [
    "# include StarKiller library path\n",
    "import sys\n",
    "#sys.path.append( '/home/fanduomi/CCSE/Microphysics/python_library/' )\n",
    "sys.path.insert(0, '/home/fanduomi/CCSE/Microphysics/python_library') # ubuntu needs absolute path"
   ]
  },
  {
   "cell_type": "code",
   "execution_count": null,
   "id": "clear-albert",
   "metadata": {},
   "outputs": [],
   "source": [
    "import numpy as np"
   ]
  },
  {
   "cell_type": "code",
   "execution_count": null,
   "id": "unknown-process",
   "metadata": {
    "tags": []
   },
   "outputs": [],
   "source": [
    "import time"
   ]
  },
  {
   "cell_type": "code",
   "execution_count": null,
   "id": "established-george",
   "metadata": {},
   "outputs": [],
   "source": [
    "import torch\n",
    "import torch.nn as nn\n",
    "import torch.nn.functional as F\n",
    "from torch.utils.data import DataLoader\n",
    "from torch.utils.tensorboard import SummaryWriter"
   ]
  },
  {
   "cell_type": "code",
   "execution_count": null,
   "id": "protective-croatia",
   "metadata": {
    "tags": []
   },
   "outputs": [],
   "source": [
    "from ReactionsSystem import ReactionsSystem\n",
    "from ReactionsDataset import *\n",
    "from ReactionsNet import *"
   ]
  },
  {
   "cell_type": "markdown",
   "id": "basic-attraction",
   "metadata": {},
   "source": [
    "## Initialize training and testing data"
   ]
  },
  {
   "cell_type": "code",
   "execution_count": null,
   "id": "grateful-surface",
   "metadata": {},
   "outputs": [],
   "source": [
    "# size of training set\n",
    "NumSamples = 1024\n",
    "\n",
    "# initialize data parameters\n",
    "dens = 1.0e8\n",
    "temp = 4.0e8\n",
    "\n",
    "end_time = 1.0e-6\n",
    "\n",
    "abs_tol = 1.0e-6\n",
    "rel_tol = 1.0e-6\n",
    "\n",
    "# initialize reaction system\n",
    "system = ReactionsSystem(dens=dens, temp=temp, end_time=end_time)\n",
    "\n",
    "# initialize training data\n",
    "x_train, y_train, t_train = system.generateData(NumSamples=NumSamples)\n",
    "\n",
    "# get the analytic right-hand-side as a function of y(t)\n",
    "# f(t) = dy(t)/dt\n",
    "dydt_train = system.rhs(y_train)\n",
    "\n",
    "# initialize test data\n",
    "x_test, y_test, t_test = system.generateData(NumSamples=NumSamples//2)\n",
    "\n",
    "# input should have dt + species + energy + density\n",
    "x_train = x_train[:, 0:system.numIndependent+1]\n",
    "x_test = x_test[:, 0:system.numIndependent+1]\n",
    "\n",
    "# output should have species + energy only\n",
    "y_train = y_train[:, 0:system.numDependent]\n",
    "y_test = y_test[:, 0:system.numDependent]"
   ]
  },
  {
   "cell_type": "markdown",
   "id": "auburn-migration",
   "metadata": {},
   "source": [
    "## Standardize (normalize) some of the data"
   ]
  },
  {
   "cell_type": "code",
   "execution_count": null,
   "id": "elegant-distinction",
   "metadata": {
    "tags": []
   },
   "outputs": [],
   "source": [
    "# compute normalization parameters\n",
    "dens_std = np.std(x_train[:,system.idens+1], axis=0)\n",
    "dens_mean = np.mean(x_train[:,system.idens+1], axis=0)\n",
    "enuc_std = np.std(x_train[:,system.ienuc+1], axis=0)\n",
    "enuc_mean = np.mean(x_train[:,system.ienuc+1], axis=0)\n",
    "dt_scale = max(x_train[:,0])\n",
    "#print(temp_mean, temp_std, enuc_mean, enuc_std)"
   ]
  },
  {
   "cell_type": "code",
   "execution_count": null,
   "id": "joined-maldives",
   "metadata": {},
   "outputs": [],
   "source": [
    "# standardize testing data\n",
    "def StandardizeTestData(x, y):\n",
    "    x[:,0] = x[:,0] / dt_scale\n",
    "    x[:,system.idens+1] = Standardize(x[:,system.idens+1], dens_mean, dens_std)\n",
    "    x[:,system.ienuc+1] = Standardize(x[:,system.ienuc+1], enuc_mean, enuc_std)\n",
    "    y[:,system.ienuc] = Standardize(y[:,system.ienuc], enuc_mean, enuc_std)\n",
    "    return (x, y)"
   ]
  },
  {
   "cell_type": "code",
   "execution_count": null,
   "id": "enhanced-voice",
   "metadata": {},
   "outputs": [],
   "source": [
    "# normalize testing data\n",
    "def NormalizeTestData(x, y):\n",
    "    x[:,0] = Normalize(x[:,0], x_min=0, x_max=dt_scale)\n",
    "    x_min = np.min(x[:, 1:system.numDependent+1], axis=0)\n",
    "    x_max = np.max(x[:, 1:system.numDependent+1], axis=0)\n",
    "    x[:,1:] = Normalize(x[:,1:])\n",
    "    y = Normalize(y, x_min=x_min, x_max=x_max)\n",
    "    \n",
    "    return (x, y)"
   ]
  },
  {
   "cell_type": "code",
   "execution_count": null,
   "id": "loose-porter",
   "metadata": {},
   "outputs": [],
   "source": [
    "normalize = True\n",
    "# normalize / standardize training data for plotting only\n",
    "if normalize:\n",
    "    tnp = t_train / dt_scale\n",
    "    ynp = y_train.copy()\n",
    "    x_min = np.min(x_train[:, 1:system.numDependent+1], axis=0)\n",
    "    x_max = np.max(x_train[:, 1:system.numDependent+1], axis=0)\n",
    "    ynp = (ynp - x_min) / (x_max - x_min)\n",
    "    dydtnp = dydt_train.copy() * dt_scale\n",
    "    dydtnp = dydtnp / (x_max - x_min)\n",
    "    print(x_max-x_min)\n",
    "else:\n",
    "    tnp = t_train / dt_scale\n",
    "    ynp = y_train.copy()\n",
    "    ynp[:, system.ienuc] = (ynp[:, system.ienuc] - enuc_mean)/enuc_std\n",
    "    dydtnp = dydt_train.copy() * dt_scale\n",
    "    dydtnp[:,system.ienuc] = (dydtnp[:,system.ienuc])/enuc_std"
   ]
  },
  {
   "cell_type": "code",
   "execution_count": null,
   "id": "answering-alcohol",
   "metadata": {},
   "outputs": [],
   "source": [
    "# x_test, y_test = StandardizeTestData(x_test, y_test)\n",
    "x_test, y_test = NormalizeTestData(x_test, y_test)\n",
    "print(y_test[:-5,:])"
   ]
  },
  {
   "cell_type": "markdown",
   "id": "finite-sleep",
   "metadata": {},
   "source": [
    "## Plot standardized training data"
   ]
  },
  {
   "cell_type": "code",
   "execution_count": null,
   "id": "standing-satin",
   "metadata": {},
   "outputs": [],
   "source": [
    "plt.plot(tnp, ynp[:,12], 'o')"
   ]
  },
  {
   "cell_type": "code",
   "execution_count": null,
   "id": "located-runner",
   "metadata": {
    "tags": []
   },
   "outputs": [],
   "source": [
    "# plot the truth values\n",
    "fig, axis = plt.subplots(figsize=(4,5), dpi=150)\n",
    "axis_t = axis.twinx()\n",
    "\n",
    "for n in range(system.network.nspec):\n",
    "    axis.scatter(tnp, ynp[:,n],\n",
    "                 color='blue', alpha=0.5)\n",
    "    \n",
    "axis_t.scatter(tnp, ynp[:,system.ienuc],\n",
    "               color='red', alpha=0.5)\n",
    "\n",
    "axis.set_ylabel(\"X\")\n",
    "axis.set_xlabel(\"t\")\n",
    "axis_t.set_ylabel(\"Enuc\")"
   ]
  },
  {
   "cell_type": "code",
   "execution_count": null,
   "id": "considered-maximum",
   "metadata": {
    "tags": []
   },
   "outputs": [],
   "source": [
    "# plot the truth rhs\n",
    "fig, axis = plt.subplots(figsize=(4,5), dpi=150)\n",
    "axis_t = axis.twinx()\n",
    "\n",
    "for n in range(system.network.nspec):\n",
    "    axis.scatter(tnp, dydtnp[:,n],\n",
    "                 color='blue', alpha=0.5)\n",
    "    \n",
    "axis_t.scatter(tnp, dydtnp[:,system.ienuc],\n",
    "               color='red', alpha=0.5)\n",
    "\n",
    "axis.set_ylabel(\"dX/dt\")\n",
    "axis.set_xlabel(\"t\")\n",
    "axis_t.set_ylabel(\"dEnuc/dt\")"
   ]
  },
  {
   "cell_type": "markdown",
   "id": "owned-count",
   "metadata": {},
   "source": [
    "## Define model, optimizer, and loss function"
   ]
  },
  {
   "cell_type": "code",
   "execution_count": null,
   "id": "viral-simulation",
   "metadata": {},
   "outputs": [],
   "source": [
    "# initialize activations, e.g. F.celu, torch.tanh\n",
    "activation = {}\n",
    "hidden_depth = 8\n",
    "n_hidden = system.numIndependent + system.numDependent\n",
    "\n",
    "for h in range(hidden_depth+1):\n",
    "#     activation[h] = torch.tanh\n",
    "    if h < hidden_depth/2:\n",
    "        activation[h] = torch.tanh\n",
    "    else:\n",
    "        # activation[h] = F.celu\n",
    "        activation[h] = F.leaky_relu\n",
    "        \n",
    "# initialize neural network\n",
    "model = DenseNet(n_independent=system.numIndependent+1, n_dependent=system.numDependent,\n",
    "                n_hidden=n_hidden, hidden_depth=hidden_depth,\n",
    "                activation=activation)\n",
    "\n",
    "print(model)"
   ]
  },
  {
   "cell_type": "code",
   "execution_count": null,
   "id": "random-checklist",
   "metadata": {},
   "outputs": [],
   "source": [
    "x_train.shape"
   ]
  },
  {
   "cell_type": "code",
   "execution_count": null,
   "id": "optical-snowboard",
   "metadata": {},
   "outputs": [],
   "source": [
    "# optimizers\n",
    "def getOptimizer (net : nn.Module, optimizer_type=\"Adam\"):\n",
    "    if optimizer_type==\"SGD\":\n",
    "        optimizer = torch.optim.SGD(net.parameters(), lr=0.01, momentum=0.9)\n",
    "    elif optimizer_type==\"Adam\":\n",
    "        optimizer = torch.optim.Adam(net.parameters(), lr=0.001)\n",
    "    else:\n",
    "        print(\"optimizer type not recognized\")\n",
    "        assert(optimizer_type==\"SGD\" or optimizer_type==\"Adam\")\n",
    "\n",
    "    return optimizer"
   ]
  },
  {
   "cell_type": "code",
   "execution_count": null,
   "id": "sorted-mechanism",
   "metadata": {
    "tags": []
   },
   "outputs": [],
   "source": [
    "# custom loss function\n",
    "def rms_weighted_error(input, target, solution, atol, rtol):\n",
    "    error_weight = atol + rtol * torch.abs(solution)\n",
    "    #error_weight = rtol * torch.abs(solution)\n",
    "    weighted_error = (input - target) / error_weight\n",
    "    rms_weighted_error = torch.sqrt((weighted_error**2).sum() / input.data.nelement())\n",
    "    return rms_weighted_error"
   ]
  },
  {
   "cell_type": "code",
   "execution_count": null,
   "id": "otherwise-major",
   "metadata": {},
   "outputs": [],
   "source": [
    "# loss function to represent mass conservation\n",
    "nspec = system.network.nspec\n",
    "\n",
    "def mass_conserv_error(solution, alpha):\n",
    "    tot_mass = torch.sum(torch.abs(solution[:,0:nspec]), dim=0) \n",
    "    tot_mass = torch.abs(tot_mass - 1)\n",
    "    return alpha * tot_mass.sum()"
   ]
  },
  {
   "cell_type": "code",
   "execution_count": null,
   "id": "dirty-fireplace",
   "metadata": {},
   "outputs": [],
   "source": []
  },
  {
   "cell_type": "markdown",
   "id": "massive-lease",
   "metadata": {},
   "source": [
    "## Postprocessing helper functions"
   ]
  },
  {
   "cell_type": "code",
   "execution_count": null,
   "id": "entitled-roberts",
   "metadata": {},
   "outputs": [],
   "source": [
    "# Use tensorboard to log history\n",
    "# Writer will output to ./runs/ directory by default.\n",
    "writer = SummaryWriter()"
   ]
  },
  {
   "cell_type": "code",
   "execution_count": null,
   "id": "sixth-demand",
   "metadata": {},
   "outputs": [],
   "source": [
    "def plot_prediction_truth(label, p, t):\n",
    "    plt.clf()\n",
    "    \n",
    "    fig, ax = plt.subplots()\n",
    "    ax.scatter(t, p)\n",
    "    ax.plot(t,t,'r')\n",
    "    ax.set_xlabel(\"truth {}\".format(label))\n",
    "    ax.set_ylabel(\"prediction {}\".format(label))\n",
    "    \n",
    "    fig.set_size_inches(6, 4)\n",
    "    plt.savefig(\"prediction2_map_{}.png\".format(label), dpi=100)"
   ]
  },
  {
   "cell_type": "code",
   "execution_count": null,
   "id": "seasonal-insertion",
   "metadata": {},
   "outputs": [],
   "source": []
  },
  {
   "cell_type": "markdown",
   "id": "mighty-rhythm",
   "metadata": {},
   "source": [
    "## Train model"
   ]
  },
  {
   "cell_type": "code",
   "execution_count": null,
   "id": "changing-applicant",
   "metadata": {},
   "outputs": [],
   "source": [
    "# Create Pytorch dataset and dataloaders\n",
    "train_data = ReactionsDataset(x_train, y_train, dydt_train, system, normalize=True)\n",
    "train_dataloader = DataLoader(train_data, batch_size=128, shuffle=True)\n",
    "print(train_data[0]['x'].shape)\n",
    "print(x_train[0])"
   ]
  },
  {
   "cell_type": "code",
   "execution_count": null,
   "id": "bright-delhi",
   "metadata": {
    "tags": []
   },
   "outputs": [],
   "source": [
    "# loss function\n",
    "loss_func = torch.nn.MSELoss()\n",
    "\n",
    "# optimizer\n",
    "optimizer = getOptimizer(model, \"Adam\")\n",
    "\n",
    "def train_model(NumEpoch):\n",
    "    # timer\n",
    "    total_time = 0.0\n",
    "\n",
    "    for i in range(NumEpoch):\n",
    "        # start time\n",
    "        start_time = time.time()\n",
    "            \n",
    "        for batch in train_dataloader:\n",
    "            x = batch['x']\n",
    "            y = batch['y']\n",
    "            \n",
    "            # calculate prediction given the current net state\n",
    "            pred = model(x)\n",
    "            \n",
    "            # calculate error between prediction and analytic truth y\n",
    "            # loss0 = torch.sqrt(loss_func(pred, y))\n",
    "            loss0 = rms_weighted_error(pred, y, y, abs_tol, rel_tol)\n",
    "\n",
    "            # first, zero out the existing gradients to avoid\n",
    "            # accumulating gradients on top of existing gradients\n",
    "            model.zero_grad()\n",
    "\n",
    "            # calculate gradients d(prediction)/d(x) for each component\n",
    "            def get_component_gradient(n):\n",
    "                if train_data.x.grad is not None:\n",
    "                    train_data.x.grad.data.zero_()\n",
    "\n",
    "                # now get the gradients dp_n/dt\n",
    "                pred[:,n].backward(torch.ones_like(pred[:,n]), retain_graph=True)\n",
    "                # clone the x gradient to save a copy of it as dp_n/dt\n",
    "                # note that dt is in the first column of x -> x[0]\n",
    "                dpndt = train_data.x.grad[batch['idx'],0].clone()\n",
    "                # clear the x gradient for the loss gradient below\n",
    "                train_data.x.grad.data.zero_()\n",
    "            \n",
    "                # return dp_n/dt\n",
    "                return dpndt\n",
    "        \n",
    "            dpdt = torch.ones_like(pred)\n",
    "            for j in range(system.network.nspec+1):\n",
    "                dpdt[:,j] = torch.flatten(get_component_gradient(j))\n",
    "\n",
    "            # define the error of the prediction derivative using the analytic derivative\n",
    "            # loss1 = torch.sqrt(loss_func(dpdt, batch['dydt']))\n",
    "            # loss1 = rms_weighted_error(dpdt, batch['dydt'], batch['dydt'], \n",
    "            #                            abs_tol, rel_tol)\n",
    "            loss1 = torch.sqrt(loss_func(dpdt[:,system.ienuc], batch['dydt'][:,system.ienuc]))\n",
    "\n",
    "            # define the error of mass conservation\n",
    "            loss2 = mass_conserv_error(pred, 1.0)\n",
    "            \n",
    "            # total error combines the error of the prediction (loss0) with \n",
    "            # the error of the prediction derivative (loss1)\n",
    "            loss = loss0 + loss1\n",
    "            \n",
    "            # clear gradients for the next training iteration\n",
    "            optimizer.zero_grad()\n",
    "\n",
    "            # compute backpropagation gradients\n",
    "            loss.backward()\n",
    "\n",
    "            # apply gradients to update the weights\n",
    "            optimizer.step()\n",
    "        \n",
    "        # timing\n",
    "        per_time = time.time() - start_time\n",
    "        total_time += per_time\n",
    "        average_per_time = total_time / (i+1)\n",
    "    \n",
    "        # save losses and accuracy every epoch\n",
    "        writer.add_scalar(\"Loss/train\", loss, i)\n",
    "        writer.add_scalar(\"Loss0/train\", loss0, i)\n",
    "        writer.add_scalar(\"Loss1/train\", loss1, i)\n",
    "        writer.add_scalar(\"Loss2/train\", loss2, i)\n",
    "            \n",
    "        # get error with testing samples\n",
    "        # first, turn off training\n",
    "        model.eval()\n",
    "        \n",
    "        with torch.no_grad():\n",
    "            pred_test = model(torch.tensor(x_test, dtype=torch.float))\n",
    "            tensor_y_test = torch.tensor(y_test, dtype=torch.float)\n",
    "            # test_loss = torch.sqrt(loss_func(pred_test, y_test))\n",
    "            test_loss = rms_weighted_error(pred_test, tensor_y_test, tensor_y_test, \n",
    "                                           abs_tol, rel_tol)\n",
    "            writer.add_scalar(\"Loss/test\", test_loss, i)\n",
    "        \n",
    "        # turn back on training\n",
    "        model.train()\n",
    "            \n",
    "        # Print epoch/error notifications\n",
    "        if i%10 == 0:\n",
    "            print(\"epoch \", i, \" with error: \", loss.item(), \n",
    "                  \"average time/epoch:\", average_per_time)\n",
    "    print(\"final testing error: \", test_loss.item())"
   ]
  },
  {
   "cell_type": "code",
   "execution_count": null,
   "id": "peaceful-grammar",
   "metadata": {},
   "outputs": [],
   "source": [
    "train_model(2000)\n",
    "writer.flush()\n",
    "writer.close()"
   ]
  },
  {
   "cell_type": "code",
   "execution_count": null,
   "id": "hourly-trading",
   "metadata": {
    "tags": []
   },
   "outputs": [],
   "source": [
    "model.train(False)\n",
    "pred_test_np = model(torch.tensor(x_test, dtype=torch.float)).data.numpy()\n",
    "\n",
    "for n in range(system.network.nspec+1):\n",
    "    plot_prediction_truth(n, pred_test_np[:,n], y_test[:,n])"
   ]
  },
  {
   "cell_type": "code",
   "execution_count": null,
   "id": "senior-leisure",
   "metadata": {},
   "outputs": [],
   "source": []
  },
  {
   "cell_type": "code",
   "execution_count": null,
   "id": "eastern-mistress",
   "metadata": {},
   "outputs": [],
   "source": []
  },
  {
   "cell_type": "code",
   "execution_count": null,
   "id": "simple-palmer",
   "metadata": {},
   "outputs": [],
   "source": []
  }
 ],
 "metadata": {
  "kernelspec": {
   "display_name": "Python 3",
   "language": "python",
   "name": "python3"
  },
  "language_info": {
   "codemirror_mode": {
    "name": "ipython",
    "version": 3
   },
   "file_extension": ".py",
   "mimetype": "text/x-python",
   "name": "python",
   "nbconvert_exporter": "python",
   "pygments_lexer": "ipython3",
   "version": "3.9.2"
  }
 },
 "nbformat": 4,
 "nbformat_minor": 5
}
