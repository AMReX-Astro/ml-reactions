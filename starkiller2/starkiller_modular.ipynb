{
 "cells": [
  {
   "cell_type": "code",
   "execution_count": null,
   "id": "substantial-share",
   "metadata": {},
   "outputs": [],
   "source": [
    "# include StarKiller library path\n",
    "import sys\n",
    "#sys.path.append( '/home/fanduomi/CCSE/Microphysics/python_library/' )\n",
    "sys.path.insert(0, '/home/fanduomi/CCSE/Microphysics/python_library') # ubuntu needs absolute path"
   ]
  },
  {
   "cell_type": "code",
   "execution_count": null,
   "id": "ignored-poetry",
   "metadata": {},
   "outputs": [],
   "source": [
    "import numpy as np"
   ]
  },
  {
   "cell_type": "code",
   "execution_count": null,
   "id": "eligible-latest",
   "metadata": {
    "tags": []
   },
   "outputs": [],
   "source": [
    "import time"
   ]
  },
  {
   "cell_type": "code",
   "execution_count": null,
   "id": "greater-prompt",
   "metadata": {},
   "outputs": [],
   "source": [
    "import torch\n",
    "import torch.nn as nn\n",
    "import torch.nn.functional as F\n",
    "from torch.utils.data import DataLoader"
   ]
  },
  {
   "cell_type": "code",
   "execution_count": null,
   "id": "fourth-pulse",
   "metadata": {
    "tags": []
   },
   "outputs": [],
   "source": [
    "from ReactionsSystem import ReactionsSystem\n",
    "from ReactionsDataset import ReactionsDataset"
   ]
  },
  {
   "cell_type": "code",
   "execution_count": null,
   "id": "restricted-humanitarian",
   "metadata": {},
   "outputs": [],
   "source": [
    "# Create numpy data\n",
    "\n",
    "# size of training set\n",
    "NumSamples = 1024\n",
    "\n",
    "# initialize data parameters\n",
    "dens = 1.0e8\n",
    "temp = 4.0e8\n",
    "\n",
    "end_time = 1.0e-6\n",
    "\n",
    "abs_tol = 1.0e-6\n",
    "rel_tol = 1.0e-6\n",
    "\n",
    "# initialize reaction system\n",
    "system = ReactionsSystem(dens=dens, temp=temp, end_time=end_time)\n",
    "\n",
    "# initialize training data\n",
    "x_train, y_train, t_train = system.generateData(NumSamples=NumSamples)\n",
    "\n",
    "# get the analytic right-hand-side as a function of y(t)\n",
    "# f(t) = dy(t)/dt\n",
    "dydt_train = system.rhs(y_train)\n",
    "\n",
    "# initialize test data\n",
    "x_test, y_test, t_test = system.generateData(NumSamples=NumSamples)"
   ]
  },
  {
   "cell_type": "code",
   "execution_count": null,
   "id": "brilliant-evanescence",
   "metadata": {},
   "outputs": [],
   "source": [
    "# compute normalization parameters\n",
    "x_std = np.std(x_train[:,system.network.net_itemp+1], axis=0)\n",
    "x_mean = np.mean(x_train[:,system.network.net_itemp+1], axis=0)\n",
    "y_std = np.std(y_train[:,system.network.net_itemp], axis=0)\n",
    "y_mean = np.mean(y_train[:,system.network.net_itemp], axis=0)\n",
    "dt_scale = max(x_train[:,0])\n",
    "#print(x_mean, x_std, y_mean, y_std)\n",
    "tnp = t_train / dt_scale\n",
    "ynp = y_train.copy()\n",
    "ynp[:,system.network.net_itemp] = (ynp[:,system.network.net_itemp] - x_mean)/x_std\n",
    "dydtnp = dydt_train.copy() * dt_scale\n",
    "dydtnp[:,system.network.net_itemp] = (dydtnp[:,system.network.net_itemp])/x_std"
   ]
  },
  {
   "cell_type": "code",
   "execution_count": null,
   "id": "interesting-headline",
   "metadata": {
    "tags": []
   },
   "outputs": [],
   "source": [
    "# plot the truth values\n",
    "fig, axis = plt.subplots(figsize=(4,5), dpi=150)\n",
    "axis_t = axis.twinx()\n",
    "\n",
    "for n in range(system.network.nspec):\n",
    "    axis.scatter(tnp, ynp[:,n],\n",
    "                 color='blue', alpha=0.5)\n",
    "    \n",
    "axis_t.scatter(tnp, ynp[:,system.network.net_itemp],\n",
    "               color='red', alpha=0.5)\n",
    "\n",
    "axis.set_ylabel(\"X\")\n",
    "axis.set_xlabel(\"t\")\n",
    "axis_t.set_ylabel(\"T\")"
   ]
  },
  {
   "cell_type": "code",
   "execution_count": null,
   "id": "fallen-substance",
   "metadata": {
    "tags": []
   },
   "outputs": [],
   "source": [
    "# plot the truth rhs\n",
    "fig, axis = plt.subplots(figsize=(4,5), dpi=150)\n",
    "axis_t = axis.twinx()\n",
    "\n",
    "for n in range(system.network.nspec):\n",
    "    axis.scatter(tnp, dydtnp[:,n],\n",
    "                 color='blue', alpha=0.5)\n",
    "    \n",
    "axis_t.scatter(tnp, dydtnp[:,system.network.net_itemp],\n",
    "               color='red', alpha=0.5)\n",
    "\n",
    "axis.set_ylabel(\"dX/dt\")\n",
    "axis.set_xlabel(\"t\")\n",
    "axis_t.set_ylabel(\"dT/dt\")"
   ]
  },
  {
   "cell_type": "code",
   "execution_count": null,
   "id": "armed-circuit",
   "metadata": {},
   "outputs": [],
   "source": []
  },
  {
   "cell_type": "code",
   "execution_count": null,
   "id": "accepting-commons",
   "metadata": {
    "tags": []
   },
   "outputs": [],
   "source": [
    "# Create Pytorch dataset and dataloaders\n",
    "train_data = ReactionsDataset(x_train, y_train, dydt_train, system)\n",
    "\n",
    "train_dataloader = DataLoader(train_data, batch_size=64, shuffle=True)"
   ]
  },
  {
   "cell_type": "code",
   "execution_count": null,
   "id": "latter-ceramic",
   "metadata": {},
   "outputs": [],
   "source": []
  },
  {
   "cell_type": "code",
   "execution_count": null,
   "id": "metallic-resident",
   "metadata": {},
   "outputs": [],
   "source": []
  },
  {
   "cell_type": "code",
   "execution_count": null,
   "id": "exempt-validation",
   "metadata": {},
   "outputs": [],
   "source": []
  },
  {
   "cell_type": "code",
   "execution_count": null,
   "id": "reverse-seating",
   "metadata": {},
   "outputs": [],
   "source": []
  },
  {
   "cell_type": "code",
   "execution_count": null,
   "id": "administrative-month",
   "metadata": {},
   "outputs": [],
   "source": []
  }
 ],
 "metadata": {
  "kernelspec": {
   "display_name": "Python 3",
   "language": "python",
   "name": "python3"
  },
  "language_info": {
   "codemirror_mode": {
    "name": "ipython",
    "version": 3
   },
   "file_extension": ".py",
   "mimetype": "text/x-python",
   "name": "python",
   "nbconvert_exporter": "python",
   "pygments_lexer": "ipython3",
   "version": "3.9.2"
  }
 },
 "nbformat": 4,
 "nbformat_minor": 5
}
